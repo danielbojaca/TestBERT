{
 "cells": [
  {
   "cell_type": "code",
   "execution_count": 1,
   "id": "5cde1e8a",
   "metadata": {},
   "outputs": [],
   "source": [
    "import sys\n",
    "sys.path.append(\"../..\")\n",
    "\n",
    "import warnings\n",
    "warnings.filterwarnings('ignore')\n",
    "\n",
    "from src.utils.barrido import NNTrainer\n",
    "from src.config import PATHS"
   ]
  },
  {
   "cell_type": "code",
   "execution_count": 2,
   "id": "bb81d39b",
   "metadata": {},
   "outputs": [],
   "source": [
    "dataset_folder = PATHS[\"training_data_folder\"]\n",
    "tokenizer_folder = PATHS[\"tokenizer_folder\"]"
   ]
  },
  {
   "cell_type": "code",
   "execution_count": 3,
   "id": "46a4db04",
   "metadata": {},
   "outputs": [],
   "source": [
    "trainer = NNTrainer(\n",
    "    nombre='equivalencia',\n",
    "    tokenizer_file=tokenizer_folder / 'tokenizer_5.pkl',\n",
    "    path_dataset=dataset_folder / 'bert_data_equivalencia_5.csv'\n",
    ")"
   ]
  },
  {
   "cell_type": "code",
   "execution_count": 4,
   "id": "58929b2f",
   "metadata": {},
   "outputs": [
    {
     "data": {
      "application/vnd.jupyter.widget-view+json": {
       "model_id": "47bc3a64a5b741da82ab8587c9305170",
       "version_major": 2,
       "version_minor": 0
      },
      "text/plain": [
       "Ejecutando punto...:   0%|          | 0/20 [00:00<?, ?it/s]"
      ]
     },
     "metadata": {},
     "output_type": "display_data"
    },
    {
     "data": {
      "application/vnd.jupyter.widget-view+json": {
       "model_id": "0a279244e16f447f9f9d04ca21ea26de",
       "version_major": 2,
       "version_minor": 0
      },
      "text/plain": [
       "Training Epochs:   0%|          | 0/3 [00:00<?, ?it/s]"
      ]
     },
     "metadata": {},
     "output_type": "display_data"
    },
    {
     "data": {
      "application/vnd.jupyter.widget-view+json": {
       "model_id": "24f74d2a2fb544cf950075b5887ce9d5",
       "version_major": 2,
       "version_minor": 0
      },
      "text/plain": [
       "Epoch 1:   0%|          | 0/2130 [00:00<?, ?it/s]"
      ]
     },
     "metadata": {},
     "output_type": "display_data"
    },
    {
     "data": {
      "application/vnd.jupyter.widget-view+json": {
       "model_id": "d2f239bd59a944c4af1d1b389139c989",
       "version_major": 2,
       "version_minor": 0
      },
      "text/plain": [
       "Epoch 2:   0%|          | 0/2130 [00:00<?, ?it/s]"
      ]
     },
     "metadata": {},
     "output_type": "display_data"
    },
    {
     "data": {
      "application/vnd.jupyter.widget-view+json": {
       "model_id": "f970ebfe9b4e404c81abc3ca42fb6c18",
       "version_major": 2,
       "version_minor": 0
      },
      "text/plain": [
       "Epoch 3:   0%|          | 0/2130 [00:00<?, ?it/s]"
      ]
     },
     "metadata": {},
     "output_type": "display_data"
    },
    {
     "data": {
      "application/vnd.jupyter.widget-view+json": {
       "model_id": "1ac1bb8dab424d7b836224186cc55949",
       "version_major": 2,
       "version_minor": 0
      },
      "text/plain": [
       "Training Epochs:   0%|          | 0/3 [00:00<?, ?it/s]"
      ]
     },
     "metadata": {},
     "output_type": "display_data"
    },
    {
     "data": {
      "application/vnd.jupyter.widget-view+json": {
       "model_id": "ba01d8cb86404a17aeb4f63ef00da80f",
       "version_major": 2,
       "version_minor": 0
      },
      "text/plain": [
       "Epoch 1:   0%|          | 0/2130 [00:00<?, ?it/s]"
      ]
     },
     "metadata": {},
     "output_type": "display_data"
    },
    {
     "data": {
      "application/vnd.jupyter.widget-view+json": {
       "model_id": "cbf474366ad048f291262efa79e881d7",
       "version_major": 2,
       "version_minor": 0
      },
      "text/plain": [
       "Epoch 2:   0%|          | 0/2130 [00:00<?, ?it/s]"
      ]
     },
     "metadata": {},
     "output_type": "display_data"
    },
    {
     "data": {
      "application/vnd.jupyter.widget-view+json": {
       "model_id": "1fc19f47beaf4fe0b7ee9f7423555c4c",
       "version_major": 2,
       "version_minor": 0
      },
      "text/plain": [
       "Epoch 3:   0%|          | 0/2130 [00:00<?, ?it/s]"
      ]
     },
     "metadata": {},
     "output_type": "display_data"
    },
    {
     "data": {
      "application/vnd.jupyter.widget-view+json": {
       "model_id": "fd715ad0580d428da4ece34e5c1ba379",
       "version_major": 2,
       "version_minor": 0
      },
      "text/plain": [
       "Training Epochs:   0%|          | 0/3 [00:00<?, ?it/s]"
      ]
     },
     "metadata": {},
     "output_type": "display_data"
    },
    {
     "data": {
      "application/vnd.jupyter.widget-view+json": {
       "model_id": "27917c848b764bcaa7b207d4686626a9",
       "version_major": 2,
       "version_minor": 0
      },
      "text/plain": [
       "Epoch 1:   0%|          | 0/8520 [00:00<?, ?it/s]"
      ]
     },
     "metadata": {},
     "output_type": "display_data"
    },
    {
     "data": {
      "application/vnd.jupyter.widget-view+json": {
       "model_id": "22ca81bfcdc341eb9fe79b3c0f8ad87c",
       "version_major": 2,
       "version_minor": 0
      },
      "text/plain": [
       "Epoch 2:   0%|          | 0/8520 [00:00<?, ?it/s]"
      ]
     },
     "metadata": {},
     "output_type": "display_data"
    },
    {
     "data": {
      "application/vnd.jupyter.widget-view+json": {
       "model_id": "6b4d20018ad545b3a76d54e4780827aa",
       "version_major": 2,
       "version_minor": 0
      },
      "text/plain": [
       "Epoch 3:   0%|          | 0/8520 [00:00<?, ?it/s]"
      ]
     },
     "metadata": {},
     "output_type": "display_data"
    },
    {
     "data": {
      "application/vnd.jupyter.widget-view+json": {
       "model_id": "dd178d2e16b741bc9a56b4385761bfc8",
       "version_major": 2,
       "version_minor": 0
      },
      "text/plain": [
       "Training Epochs:   0%|          | 0/3 [00:00<?, ?it/s]"
      ]
     },
     "metadata": {},
     "output_type": "display_data"
    },
    {
     "data": {
      "application/vnd.jupyter.widget-view+json": {
       "model_id": "2a1e67b0531541c5911af11fc3994758",
       "version_major": 2,
       "version_minor": 0
      },
      "text/plain": [
       "Epoch 1:   0%|          | 0/2130 [00:00<?, ?it/s]"
      ]
     },
     "metadata": {},
     "output_type": "display_data"
    },
    {
     "data": {
      "application/vnd.jupyter.widget-view+json": {
       "model_id": "95fe4ca5b43f4c82bde31373f8cb100b",
       "version_major": 2,
       "version_minor": 0
      },
      "text/plain": [
       "Epoch 2:   0%|          | 0/2130 [00:00<?, ?it/s]"
      ]
     },
     "metadata": {},
     "output_type": "display_data"
    },
    {
     "data": {
      "application/vnd.jupyter.widget-view+json": {
       "model_id": "1aed26160abc4a5eaf49525e7098f69e",
       "version_major": 2,
       "version_minor": 0
      },
      "text/plain": [
       "Epoch 3:   0%|          | 0/2130 [00:00<?, ?it/s]"
      ]
     },
     "metadata": {},
     "output_type": "display_data"
    },
    {
     "data": {
      "application/vnd.jupyter.widget-view+json": {
       "model_id": "57b677ce79694cd89d06dc7ad18564a3",
       "version_major": 2,
       "version_minor": 0
      },
      "text/plain": [
       "Training Epochs:   0%|          | 0/3 [00:00<?, ?it/s]"
      ]
     },
     "metadata": {},
     "output_type": "display_data"
    },
    {
     "data": {
      "application/vnd.jupyter.widget-view+json": {
       "model_id": "e04efa69ee1648488b7ee9bc41cafb5d",
       "version_major": 2,
       "version_minor": 0
      },
      "text/plain": [
       "Epoch 1:   0%|          | 0/267 [00:00<?, ?it/s]"
      ]
     },
     "metadata": {},
     "output_type": "display_data"
    },
    {
     "data": {
      "application/vnd.jupyter.widget-view+json": {
       "model_id": "d10c682781e54a6e9c19a5ad8efaa220",
       "version_major": 2,
       "version_minor": 0
      },
      "text/plain": [
       "Epoch 2:   0%|          | 0/267 [00:00<?, ?it/s]"
      ]
     },
     "metadata": {},
     "output_type": "display_data"
    },
    {
     "data": {
      "application/vnd.jupyter.widget-view+json": {
       "model_id": "8e48c263273f415db4980776ed2a4a5a",
       "version_major": 2,
       "version_minor": 0
      },
      "text/plain": [
       "Epoch 3:   0%|          | 0/267 [00:00<?, ?it/s]"
      ]
     },
     "metadata": {},
     "output_type": "display_data"
    },
    {
     "data": {
      "application/vnd.jupyter.widget-view+json": {
       "model_id": "ceca54d70e9e497d9811a0f1d009aed6",
       "version_major": 2,
       "version_minor": 0
      },
      "text/plain": [
       "Training Epochs:   0%|          | 0/3 [00:00<?, ?it/s]"
      ]
     },
     "metadata": {},
     "output_type": "display_data"
    },
    {
     "data": {
      "application/vnd.jupyter.widget-view+json": {
       "model_id": "fb12d2b498c346e19d9a7ac2791f8c0e",
       "version_major": 2,
       "version_minor": 0
      },
      "text/plain": [
       "Epoch 1:   0%|          | 0/8520 [00:00<?, ?it/s]"
      ]
     },
     "metadata": {},
     "output_type": "display_data"
    },
    {
     "data": {
      "application/vnd.jupyter.widget-view+json": {
       "model_id": "7c583223990d43cd9616ac6be3934290",
       "version_major": 2,
       "version_minor": 0
      },
      "text/plain": [
       "Epoch 2:   0%|          | 0/8520 [00:00<?, ?it/s]"
      ]
     },
     "metadata": {},
     "output_type": "display_data"
    },
    {
     "data": {
      "application/vnd.jupyter.widget-view+json": {
       "model_id": "60d07138b65b4789b5fdfe7d016ecc8a",
       "version_major": 2,
       "version_minor": 0
      },
      "text/plain": [
       "Epoch 3:   0%|          | 0/8520 [00:00<?, ?it/s]"
      ]
     },
     "metadata": {},
     "output_type": "display_data"
    },
    {
     "data": {
      "application/vnd.jupyter.widget-view+json": {
       "model_id": "68bda2b46d3546ad9fa1a57e6d1996af",
       "version_major": 2,
       "version_minor": 0
      },
      "text/plain": [
       "Training Epochs:   0%|          | 0/3 [00:00<?, ?it/s]"
      ]
     },
     "metadata": {},
     "output_type": "display_data"
    },
    {
     "data": {
      "application/vnd.jupyter.widget-view+json": {
       "model_id": "30a224da8e744e6898b5a64c3c326b86",
       "version_major": 2,
       "version_minor": 0
      },
      "text/plain": [
       "Epoch 1:   0%|          | 0/134 [00:00<?, ?it/s]"
      ]
     },
     "metadata": {},
     "output_type": "display_data"
    },
    {
     "data": {
      "application/vnd.jupyter.widget-view+json": {
       "model_id": "b38df5b167964c57b11f62a902dca076",
       "version_major": 2,
       "version_minor": 0
      },
      "text/plain": [
       "Epoch 2:   0%|          | 0/134 [00:00<?, ?it/s]"
      ]
     },
     "metadata": {},
     "output_type": "display_data"
    },
    {
     "data": {
      "application/vnd.jupyter.widget-view+json": {
       "model_id": "730aac544aca4207a85fbf89db38f64e",
       "version_major": 2,
       "version_minor": 0
      },
      "text/plain": [
       "Epoch 3:   0%|          | 0/134 [00:00<?, ?it/s]"
      ]
     },
     "metadata": {},
     "output_type": "display_data"
    },
    {
     "data": {
      "application/vnd.jupyter.widget-view+json": {
       "model_id": "0e6f62f336ee4c0d87195354f1fbce65",
       "version_major": 2,
       "version_minor": 0
      },
      "text/plain": [
       "Training Epochs:   0%|          | 0/3 [00:00<?, ?it/s]"
      ]
     },
     "metadata": {},
     "output_type": "display_data"
    },
    {
     "data": {
      "application/vnd.jupyter.widget-view+json": {
       "model_id": "60b8df818cf64e3886cd7285e4026cf2",
       "version_major": 2,
       "version_minor": 0
      },
      "text/plain": [
       "Epoch 1:   0%|          | 0/267 [00:00<?, ?it/s]"
      ]
     },
     "metadata": {},
     "output_type": "display_data"
    },
    {
     "data": {
      "application/vnd.jupyter.widget-view+json": {
       "model_id": "a0c661ba6fd44ac78814f07a2f7355b5",
       "version_major": 2,
       "version_minor": 0
      },
      "text/plain": [
       "Epoch 2:   0%|          | 0/267 [00:00<?, ?it/s]"
      ]
     },
     "metadata": {},
     "output_type": "display_data"
    },
    {
     "data": {
      "application/vnd.jupyter.widget-view+json": {
       "model_id": "582a2a1827534d97a289916d495f409b",
       "version_major": 2,
       "version_minor": 0
      },
      "text/plain": [
       "Epoch 3:   0%|          | 0/267 [00:00<?, ?it/s]"
      ]
     },
     "metadata": {},
     "output_type": "display_data"
    },
    {
     "data": {
      "application/vnd.jupyter.widget-view+json": {
       "model_id": "47f244ac89fb4ace9039526de955dff2",
       "version_major": 2,
       "version_minor": 0
      },
      "text/plain": [
       "Training Epochs:   0%|          | 0/3 [00:00<?, ?it/s]"
      ]
     },
     "metadata": {},
     "output_type": "display_data"
    },
    {
     "data": {
      "application/vnd.jupyter.widget-view+json": {
       "model_id": "3e689f3023be4d9da2f6681fdb5649c0",
       "version_major": 2,
       "version_minor": 0
      },
      "text/plain": [
       "Epoch 1:   0%|          | 0/267 [00:00<?, ?it/s]"
      ]
     },
     "metadata": {},
     "output_type": "display_data"
    },
    {
     "data": {
      "application/vnd.jupyter.widget-view+json": {
       "model_id": "2d52b74c60994f81a3da141d5ead6410",
       "version_major": 2,
       "version_minor": 0
      },
      "text/plain": [
       "Epoch 2:   0%|          | 0/267 [00:00<?, ?it/s]"
      ]
     },
     "metadata": {},
     "output_type": "display_data"
    },
    {
     "data": {
      "application/vnd.jupyter.widget-view+json": {
       "model_id": "fed67a9c195d4b508d6efdf40195139f",
       "version_major": 2,
       "version_minor": 0
      },
      "text/plain": [
       "Epoch 3:   0%|          | 0/267 [00:00<?, ?it/s]"
      ]
     },
     "metadata": {},
     "output_type": "display_data"
    },
    {
     "data": {
      "application/vnd.jupyter.widget-view+json": {
       "model_id": "711f71d8a1a04012bdab436968951590",
       "version_major": 2,
       "version_minor": 0
      },
      "text/plain": [
       "Training Epochs:   0%|          | 0/3 [00:00<?, ?it/s]"
      ]
     },
     "metadata": {},
     "output_type": "display_data"
    },
    {
     "data": {
      "application/vnd.jupyter.widget-view+json": {
       "model_id": "e891b3dddd724e9193772df9efa8b7e2",
       "version_major": 2,
       "version_minor": 0
      },
      "text/plain": [
       "Epoch 1:   0%|          | 0/267 [00:00<?, ?it/s]"
      ]
     },
     "metadata": {},
     "output_type": "display_data"
    },
    {
     "data": {
      "application/vnd.jupyter.widget-view+json": {
       "model_id": "8c275af86c9147249798b35348a4b197",
       "version_major": 2,
       "version_minor": 0
      },
      "text/plain": [
       "Epoch 2:   0%|          | 0/267 [00:00<?, ?it/s]"
      ]
     },
     "metadata": {},
     "output_type": "display_data"
    },
    {
     "data": {
      "application/vnd.jupyter.widget-view+json": {
       "model_id": "2ac948ea9c654160ad11cbeeb0798d4d",
       "version_major": 2,
       "version_minor": 0
      },
      "text/plain": [
       "Epoch 3:   0%|          | 0/267 [00:00<?, ?it/s]"
      ]
     },
     "metadata": {},
     "output_type": "display_data"
    },
    {
     "data": {
      "application/vnd.jupyter.widget-view+json": {
       "model_id": "9eb0606115224d8d8ea6dc7edbfe98b5",
       "version_major": 2,
       "version_minor": 0
      },
      "text/plain": [
       "Training Epochs:   0%|          | 0/3 [00:00<?, ?it/s]"
      ]
     },
     "metadata": {},
     "output_type": "display_data"
    },
    {
     "data": {
      "application/vnd.jupyter.widget-view+json": {
       "model_id": "84692a16c57247879ea2089c4678bafc",
       "version_major": 2,
       "version_minor": 0
      },
      "text/plain": [
       "Epoch 1:   0%|          | 0/134 [00:00<?, ?it/s]"
      ]
     },
     "metadata": {},
     "output_type": "display_data"
    },
    {
     "data": {
      "application/vnd.jupyter.widget-view+json": {
       "model_id": "135823e496a248d38e19031c350aa5b6",
       "version_major": 2,
       "version_minor": 0
      },
      "text/plain": [
       "Epoch 2:   0%|          | 0/134 [00:00<?, ?it/s]"
      ]
     },
     "metadata": {},
     "output_type": "display_data"
    },
    {
     "data": {
      "application/vnd.jupyter.widget-view+json": {
       "model_id": "18a7d4573d314f4cba3adfc2af563ae7",
       "version_major": 2,
       "version_minor": 0
      },
      "text/plain": [
       "Epoch 3:   0%|          | 0/134 [00:00<?, ?it/s]"
      ]
     },
     "metadata": {},
     "output_type": "display_data"
    },
    {
     "data": {
      "application/vnd.jupyter.widget-view+json": {
       "model_id": "0ac21fc39b364446ab24d0bc1bf43e64",
       "version_major": 2,
       "version_minor": 0
      },
      "text/plain": [
       "Training Epochs:   0%|          | 0/3 [00:00<?, ?it/s]"
      ]
     },
     "metadata": {},
     "output_type": "display_data"
    },
    {
     "data": {
      "application/vnd.jupyter.widget-view+json": {
       "model_id": "a7da9ddb69ed45d3b28b1b41b8e5bd1e",
       "version_major": 2,
       "version_minor": 0
      },
      "text/plain": [
       "Epoch 1:   0%|          | 0/134 [00:00<?, ?it/s]"
      ]
     },
     "metadata": {},
     "output_type": "display_data"
    },
    {
     "data": {
      "application/vnd.jupyter.widget-view+json": {
       "model_id": "73a3bd95131040489e01dbf6876e1750",
       "version_major": 2,
       "version_minor": 0
      },
      "text/plain": [
       "Epoch 2:   0%|          | 0/134 [00:00<?, ?it/s]"
      ]
     },
     "metadata": {},
     "output_type": "display_data"
    },
    {
     "data": {
      "application/vnd.jupyter.widget-view+json": {
       "model_id": "1b907b9238d0477a95717ab458a3094a",
       "version_major": 2,
       "version_minor": 0
      },
      "text/plain": [
       "Epoch 3:   0%|          | 0/134 [00:00<?, ?it/s]"
      ]
     },
     "metadata": {},
     "output_type": "display_data"
    },
    {
     "data": {
      "application/vnd.jupyter.widget-view+json": {
       "model_id": "ca44dcb069a04157877bd9e24a692ce0",
       "version_major": 2,
       "version_minor": 0
      },
      "text/plain": [
       "Training Epochs:   0%|          | 0/3 [00:00<?, ?it/s]"
      ]
     },
     "metadata": {},
     "output_type": "display_data"
    },
    {
     "data": {
      "application/vnd.jupyter.widget-view+json": {
       "model_id": "5d603775df2940e18d3b4fa47189ce29",
       "version_major": 2,
       "version_minor": 0
      },
      "text/plain": [
       "Epoch 1:   0%|          | 0/267 [00:00<?, ?it/s]"
      ]
     },
     "metadata": {},
     "output_type": "display_data"
    },
    {
     "data": {
      "application/vnd.jupyter.widget-view+json": {
       "model_id": "e65e6056b49c4360a323116106cf9b74",
       "version_major": 2,
       "version_minor": 0
      },
      "text/plain": [
       "Epoch 2:   0%|          | 0/267 [00:00<?, ?it/s]"
      ]
     },
     "metadata": {},
     "output_type": "display_data"
    },
    {
     "data": {
      "application/vnd.jupyter.widget-view+json": {
       "model_id": "859e218401ca4aad9582ad9139be454d",
       "version_major": 2,
       "version_minor": 0
      },
      "text/plain": [
       "Epoch 3:   0%|          | 0/267 [00:00<?, ?it/s]"
      ]
     },
     "metadata": {},
     "output_type": "display_data"
    },
    {
     "data": {
      "application/vnd.jupyter.widget-view+json": {
       "model_id": "7c642dbeb4a8466a9f553e12ba07a357",
       "version_major": 2,
       "version_minor": 0
      },
      "text/plain": [
       "Training Epochs:   0%|          | 0/3 [00:00<?, ?it/s]"
      ]
     },
     "metadata": {},
     "output_type": "display_data"
    },
    {
     "data": {
      "application/vnd.jupyter.widget-view+json": {
       "model_id": "1dbd124acca2406e9a19f1756812d131",
       "version_major": 2,
       "version_minor": 0
      },
      "text/plain": [
       "Epoch 1:   0%|          | 0/8520 [00:00<?, ?it/s]"
      ]
     },
     "metadata": {},
     "output_type": "display_data"
    },
    {
     "data": {
      "application/vnd.jupyter.widget-view+json": {
       "model_id": "6ecd78030f66470c97a58acf7903fc20",
       "version_major": 2,
       "version_minor": 0
      },
      "text/plain": [
       "Epoch 2:   0%|          | 0/8520 [00:00<?, ?it/s]"
      ]
     },
     "metadata": {},
     "output_type": "display_data"
    },
    {
     "data": {
      "application/vnd.jupyter.widget-view+json": {
       "model_id": "adcfb34e0a1c4c0d8b4972fbac7164eb",
       "version_major": 2,
       "version_minor": 0
      },
      "text/plain": [
       "Epoch 3:   0%|          | 0/8520 [00:00<?, ?it/s]"
      ]
     },
     "metadata": {},
     "output_type": "display_data"
    },
    {
     "data": {
      "application/vnd.jupyter.widget-view+json": {
       "model_id": "8d296f9a3f9c4889a4de18bf6371d8e7",
       "version_major": 2,
       "version_minor": 0
      },
      "text/plain": [
       "Training Epochs:   0%|          | 0/3 [00:00<?, ?it/s]"
      ]
     },
     "metadata": {},
     "output_type": "display_data"
    },
    {
     "data": {
      "application/vnd.jupyter.widget-view+json": {
       "model_id": "cf6245a2a6ca49309b622d381db8074d",
       "version_major": 2,
       "version_minor": 0
      },
      "text/plain": [
       "Epoch 1:   0%|          | 0/267 [00:00<?, ?it/s]"
      ]
     },
     "metadata": {},
     "output_type": "display_data"
    },
    {
     "data": {
      "application/vnd.jupyter.widget-view+json": {
       "model_id": "a51a9194d07c45babc80526eff15d169",
       "version_major": 2,
       "version_minor": 0
      },
      "text/plain": [
       "Epoch 2:   0%|          | 0/267 [00:00<?, ?it/s]"
      ]
     },
     "metadata": {},
     "output_type": "display_data"
    },
    {
     "data": {
      "application/vnd.jupyter.widget-view+json": {
       "model_id": "cbd9fd81cc98469c82edc7a254862f3e",
       "version_major": 2,
       "version_minor": 0
      },
      "text/plain": [
       "Epoch 3:   0%|          | 0/267 [00:00<?, ?it/s]"
      ]
     },
     "metadata": {},
     "output_type": "display_data"
    },
    {
     "data": {
      "application/vnd.jupyter.widget-view+json": {
       "model_id": "5d391d7134e84cb8ab5c2949af9315ef",
       "version_major": 2,
       "version_minor": 0
      },
      "text/plain": [
       "Training Epochs:   0%|          | 0/3 [00:00<?, ?it/s]"
      ]
     },
     "metadata": {},
     "output_type": "display_data"
    },
    {
     "data": {
      "application/vnd.jupyter.widget-view+json": {
       "model_id": "f325609d3c8b430e92e97b95ddb937a4",
       "version_major": 2,
       "version_minor": 0
      },
      "text/plain": [
       "Epoch 1:   0%|          | 0/533 [00:00<?, ?it/s]"
      ]
     },
     "metadata": {},
     "output_type": "display_data"
    },
    {
     "data": {
      "application/vnd.jupyter.widget-view+json": {
       "model_id": "d8a2d36de9654f73b08280cc1d8cc64b",
       "version_major": 2,
       "version_minor": 0
      },
      "text/plain": [
       "Epoch 2:   0%|          | 0/533 [00:00<?, ?it/s]"
      ]
     },
     "metadata": {},
     "output_type": "display_data"
    },
    {
     "data": {
      "application/vnd.jupyter.widget-view+json": {
       "model_id": "76dd6fd4d5c54d23bc41f6b066f733a8",
       "version_major": 2,
       "version_minor": 0
      },
      "text/plain": [
       "Epoch 3:   0%|          | 0/533 [00:00<?, ?it/s]"
      ]
     },
     "metadata": {},
     "output_type": "display_data"
    },
    {
     "data": {
      "application/vnd.jupyter.widget-view+json": {
       "model_id": "10315bec18b34a7591ace44143ff3c57",
       "version_major": 2,
       "version_minor": 0
      },
      "text/plain": [
       "Training Epochs:   0%|          | 0/3 [00:00<?, ?it/s]"
      ]
     },
     "metadata": {},
     "output_type": "display_data"
    },
    {
     "data": {
      "application/vnd.jupyter.widget-view+json": {
       "model_id": "e507e2a98b514022955d6adf1f43f865",
       "version_major": 2,
       "version_minor": 0
      },
      "text/plain": [
       "Epoch 1:   0%|          | 0/8520 [00:00<?, ?it/s]"
      ]
     },
     "metadata": {},
     "output_type": "display_data"
    },
    {
     "data": {
      "application/vnd.jupyter.widget-view+json": {
       "model_id": "9a63a81fb125489f83538b496f531260",
       "version_major": 2,
       "version_minor": 0
      },
      "text/plain": [
       "Epoch 2:   0%|          | 0/8520 [00:00<?, ?it/s]"
      ]
     },
     "metadata": {},
     "output_type": "display_data"
    },
    {
     "data": {
      "application/vnd.jupyter.widget-view+json": {
       "model_id": "ec609912b64646bf9d61c9206249a410",
       "version_major": 2,
       "version_minor": 0
      },
      "text/plain": [
       "Epoch 3:   0%|          | 0/8520 [00:00<?, ?it/s]"
      ]
     },
     "metadata": {},
     "output_type": "display_data"
    },
    {
     "data": {
      "application/vnd.jupyter.widget-view+json": {
       "model_id": "493dbf5c54c3436e9c50149ed2b94d99",
       "version_major": 2,
       "version_minor": 0
      },
      "text/plain": [
       "Training Epochs:   0%|          | 0/3 [00:00<?, ?it/s]"
      ]
     },
     "metadata": {},
     "output_type": "display_data"
    },
    {
     "data": {
      "application/vnd.jupyter.widget-view+json": {
       "model_id": "94560df2f72a4229be901e425e1dff4d",
       "version_major": 2,
       "version_minor": 0
      },
      "text/plain": [
       "Epoch 1:   0%|          | 0/134 [00:00<?, ?it/s]"
      ]
     },
     "metadata": {},
     "output_type": "display_data"
    },
    {
     "data": {
      "application/vnd.jupyter.widget-view+json": {
       "model_id": "8d1f69d653c043d09031775f94c403ff",
       "version_major": 2,
       "version_minor": 0
      },
      "text/plain": [
       "Epoch 2:   0%|          | 0/134 [00:00<?, ?it/s]"
      ]
     },
     "metadata": {},
     "output_type": "display_data"
    },
    {
     "data": {
      "application/vnd.jupyter.widget-view+json": {
       "model_id": "34a24f643cc6430ebbc29ed5c5c14524",
       "version_major": 2,
       "version_minor": 0
      },
      "text/plain": [
       "Epoch 3:   0%|          | 0/134 [00:00<?, ?it/s]"
      ]
     },
     "metadata": {},
     "output_type": "display_data"
    },
    {
     "data": {
      "application/vnd.jupyter.widget-view+json": {
       "model_id": "80ee690364954c4caa14888caaabe2b4",
       "version_major": 2,
       "version_minor": 0
      },
      "text/plain": [
       "Training Epochs:   0%|          | 0/3 [00:00<?, ?it/s]"
      ]
     },
     "metadata": {},
     "output_type": "display_data"
    },
    {
     "data": {
      "application/vnd.jupyter.widget-view+json": {
       "model_id": "fd7ddcd77b06494380772ae41f6538cd",
       "version_major": 2,
       "version_minor": 0
      },
      "text/plain": [
       "Epoch 1:   0%|          | 0/8520 [00:00<?, ?it/s]"
      ]
     },
     "metadata": {},
     "output_type": "display_data"
    },
    {
     "data": {
      "application/vnd.jupyter.widget-view+json": {
       "model_id": "528ffd46e4bf453a8648c755b84b73ab",
       "version_major": 2,
       "version_minor": 0
      },
      "text/plain": [
       "Epoch 2:   0%|          | 0/8520 [00:00<?, ?it/s]"
      ]
     },
     "metadata": {},
     "output_type": "display_data"
    },
    {
     "data": {
      "application/vnd.jupyter.widget-view+json": {
       "model_id": "f52da2efcbc2413eb9c900d66a25b97a",
       "version_major": 2,
       "version_minor": 0
      },
      "text/plain": [
       "Epoch 3:   0%|          | 0/8520 [00:00<?, ?it/s]"
      ]
     },
     "metadata": {},
     "output_type": "display_data"
    },
    {
     "data": {
      "application/vnd.jupyter.widget-view+json": {
       "model_id": "5c12def01f5540cf92caa879aa2a73a9",
       "version_major": 2,
       "version_minor": 0
      },
      "text/plain": [
       "Training Epochs:   0%|          | 0/3 [00:00<?, ?it/s]"
      ]
     },
     "metadata": {},
     "output_type": "display_data"
    },
    {
     "data": {
      "application/vnd.jupyter.widget-view+json": {
       "model_id": "e76a0a8016bc48e482e89ecf672ed79e",
       "version_major": 2,
       "version_minor": 0
      },
      "text/plain": [
       "Epoch 1:   0%|          | 0/533 [00:00<?, ?it/s]"
      ]
     },
     "metadata": {},
     "output_type": "display_data"
    },
    {
     "data": {
      "application/vnd.jupyter.widget-view+json": {
       "model_id": "e954b17912804b9aaa25f8fee17cc9d2",
       "version_major": 2,
       "version_minor": 0
      },
      "text/plain": [
       "Epoch 2:   0%|          | 0/533 [00:00<?, ?it/s]"
      ]
     },
     "metadata": {},
     "output_type": "display_data"
    },
    {
     "data": {
      "application/vnd.jupyter.widget-view+json": {
       "model_id": "9830da048cba432184cc3e858936772d",
       "version_major": 2,
       "version_minor": 0
      },
      "text/plain": [
       "Epoch 3:   0%|          | 0/533 [00:00<?, ?it/s]"
      ]
     },
     "metadata": {},
     "output_type": "display_data"
    },
    {
     "name": "stdout",
     "output_type": "stream",
     "text": [
      "[{'loss': 18408.148934230045, 'accurracy': 0.36103286384976524, 'f1': 0.00873998543335761, 'hiperparametros': (8, 8, 4, 0.2, 'sgd', 0.001, 0.4, 4), 'message': 'No errors'}, {'loss': 18410.898673005748, 'accurracy': 0.6352112676056338, 'f1': 0.776916451335056, 'hiperparametros': (32, 8, 2, 0.3, 'adam', 0.01, 0.2, 4), 'message': 'No errors'}, {'loss': 173912.23066016333, 'accurracy': 0.42065727699530514, 'f1': 0.23258706467661694, 'hiperparametros': (8, 8, 2, 0.3, 'sgd', 0.001, 0.3, 1), 'message': 'No errors'}, {'loss': 18408.062582240138, 'accurracy': 0.6267605633802817, 'f1': 0.7694984053348797, 'hiperparametros': (16, 8, 8, 0.4, 'sgd', 0.01, 0.3, 4), 'message': 'No errors'}, {'loss': 4.669105620945201, 'accurracy': 0.6215962441314554, 'f1': 0.7519999999999999, 'hiperparametros': (32, 10, 8, 0.2, 'adam', 1e-05, 0.3, 32), 'message': 'No errors'}, {'loss': 173912.30305670894, 'accurracy': 0.636150234741784, 'f1': 0.7758171825282038, 'hiperparametros': (32, 6, 6, 0.2, 'adam', 0.0001, 0.1, 1), 'message': 'No errors'}, {'loss': 4.149963787623814, 'accurracy': 0.4460093896713615, 'f1': 0.31949250288350634, 'hiperparametros': (8, 4, 6, 0.1, 'adam', 0.01, 0.2, 64), 'message': 'No errors'}, {'loss': 4.30070228436414, 'accurracy': 0.5816901408450704, 'f1': 0.7079646017699115, 'hiperparametros': (4, 8, 8, 0.4, 'sgd', 0.0001, 0.1, 32), 'message': 'No errors'}, {'loss': 4.470934327910928, 'accurracy': 0.5464788732394367, 'f1': 0.6537634408602151, 'hiperparametros': (32, 8, 2, 0.3, 'adam', 1e-05, 0.4, 32), 'message': 'No errors'}, {'loss': 5.490344580482034, 'accurracy': 0.6352112676056338, 'f1': 0.776916451335056, 'hiperparametros': (32, 4, 8, 0.2, 'adam', 0.01, 0.2, 32), 'message': 'No errors'}, {'loss': 4.765515490940639, 'accurracy': 0.3647887323943662, 'f1': 0.0, 'hiperparametros': (8, 8, 4, 0.4, 'adam', 1e-05, 0.3, 64), 'message': 'No errors'}, {'loss': 4.958481325422015, 'accurracy': 0.6352112676056338, 'f1': 0.776916451335056, 'hiperparametros': (8, 4, 4, 0.2, 'adam', 0.01, 0.4, 64), 'message': 'No errors'}, {'loss': 5.575677836642546, 'accurracy': 0.6352112676056338, 'f1': 0.776916451335056, 'hiperparametros': (4, 8, 8, 0.4, 'sgd', 1e-05, 0.1, 32), 'message': 'No errors'}, {'loss': 173912.04489124464, 'accurracy': 0.36901408450704226, 'f1': 0.016105417276720352, 'hiperparametros': (16, 10, 8, 0.1, 'sgd', 0.001, 0.4, 1), 'message': 'No errors'}, {'loss': 4.600480325081769, 'accurracy': 0.3671361502347418, 'f1': 0.024602026049204053, 'hiperparametros': (8, 10, 4, 0.2, 'sgd', 0.0001, 0.3, 32), 'message': 'No errors'}, {'loss': 4.365779032530608, 'accurracy': 0.30375586854460096, 'f1': 0.14326978625072212, 'hiperparametros': (32, 4, 2, 0.1, 'adam', 0.0001, 0.4, 16), 'message': 'No errors'}, {'loss': 173912.8956022195, 'accurracy': 0.6352112676056338, 'f1': 0.7766599597585513, 'hiperparametros': (32, 8, 8, 0.4, 'sgd', 1e-05, 0.4, 1), 'message': 'No errors'}, {'loss': 4.052820914132255, 'accurracy': 0.48169014084507045, 'f1': 0.5456790123456791, 'hiperparametros': (16, 8, 6, 0.2, 'adam', 0.0001, 0.1, 64), 'message': 'No errors'}, {'loss': 173912.74686039382, 'accurracy': 0.6342723004694836, 'f1': 0.776085081920092, 'hiperparametros': (32, 6, 2, 0.2, 'adam', 0.001, 0.4, 1), 'message': 'No errors'}, {'loss': 4.2799017588297525, 'accurracy': 0.4323943661971831, 'f1': 0.3764827230531202, 'hiperparametros': (8, 8, 6, 0.4, 'sgd', 1e-05, 0.2, 16), 'message': 'No errors'}]\n",
      "¡Barrido terminado!\n"
     ]
    }
   ],
   "source": [
    "trainer.ejecutar_barrido()"
   ]
  },
  {
   "cell_type": "code",
   "execution_count": 5,
   "id": "be3db856",
   "metadata": {},
   "outputs": [
    {
     "data": {
      "text/plain": [
       "[{'loss': 18408.148934230045,\n",
       "  'accurracy': 0.36103286384976524,\n",
       "  'f1': 0.00873998543335761,\n",
       "  'hiperparametros': (8, 8, 4, 0.2, 'sgd', 0.001, 0.4, 4),\n",
       "  'message': 'No errors'},\n",
       " {'loss': 18410.898673005748,\n",
       "  'accurracy': 0.6352112676056338,\n",
       "  'f1': 0.776916451335056,\n",
       "  'hiperparametros': (32, 8, 2, 0.3, 'adam', 0.01, 0.2, 4),\n",
       "  'message': 'No errors'},\n",
       " {'loss': 173912.23066016333,\n",
       "  'accurracy': 0.42065727699530514,\n",
       "  'f1': 0.23258706467661694,\n",
       "  'hiperparametros': (8, 8, 2, 0.3, 'sgd', 0.001, 0.3, 1),\n",
       "  'message': 'No errors'},\n",
       " {'loss': 18408.062582240138,\n",
       "  'accurracy': 0.6267605633802817,\n",
       "  'f1': 0.7694984053348797,\n",
       "  'hiperparametros': (16, 8, 8, 0.4, 'sgd', 0.01, 0.3, 4),\n",
       "  'message': 'No errors'},\n",
       " {'loss': 4.669105620945201,\n",
       "  'accurracy': 0.6215962441314554,\n",
       "  'f1': 0.7519999999999999,\n",
       "  'hiperparametros': (32, 10, 8, 0.2, 'adam', 1e-05, 0.3, 32),\n",
       "  'message': 'No errors'},\n",
       " {'loss': 173912.30305670894,\n",
       "  'accurracy': 0.636150234741784,\n",
       "  'f1': 0.7758171825282038,\n",
       "  'hiperparametros': (32, 6, 6, 0.2, 'adam', 0.0001, 0.1, 1),\n",
       "  'message': 'No errors'},\n",
       " {'loss': 4.149963787623814,\n",
       "  'accurracy': 0.4460093896713615,\n",
       "  'f1': 0.31949250288350634,\n",
       "  'hiperparametros': (8, 4, 6, 0.1, 'adam', 0.01, 0.2, 64),\n",
       "  'message': 'No errors'},\n",
       " {'loss': 4.30070228436414,\n",
       "  'accurracy': 0.5816901408450704,\n",
       "  'f1': 0.7079646017699115,\n",
       "  'hiperparametros': (4, 8, 8, 0.4, 'sgd', 0.0001, 0.1, 32),\n",
       "  'message': 'No errors'},\n",
       " {'loss': 4.470934327910928,\n",
       "  'accurracy': 0.5464788732394367,\n",
       "  'f1': 0.6537634408602151,\n",
       "  'hiperparametros': (32, 8, 2, 0.3, 'adam', 1e-05, 0.4, 32),\n",
       "  'message': 'No errors'},\n",
       " {'loss': 5.490344580482034,\n",
       "  'accurracy': 0.6352112676056338,\n",
       "  'f1': 0.776916451335056,\n",
       "  'hiperparametros': (32, 4, 8, 0.2, 'adam', 0.01, 0.2, 32),\n",
       "  'message': 'No errors'},\n",
       " {'loss': 4.765515490940639,\n",
       "  'accurracy': 0.3647887323943662,\n",
       "  'f1': 0.0,\n",
       "  'hiperparametros': (8, 8, 4, 0.4, 'adam', 1e-05, 0.3, 64),\n",
       "  'message': 'No errors'},\n",
       " {'loss': 4.958481325422015,\n",
       "  'accurracy': 0.6352112676056338,\n",
       "  'f1': 0.776916451335056,\n",
       "  'hiperparametros': (8, 4, 4, 0.2, 'adam', 0.01, 0.4, 64),\n",
       "  'message': 'No errors'},\n",
       " {'loss': 5.575677836642546,\n",
       "  'accurracy': 0.6352112676056338,\n",
       "  'f1': 0.776916451335056,\n",
       "  'hiperparametros': (4, 8, 8, 0.4, 'sgd', 1e-05, 0.1, 32),\n",
       "  'message': 'No errors'},\n",
       " {'loss': 173912.04489124464,\n",
       "  'accurracy': 0.36901408450704226,\n",
       "  'f1': 0.016105417276720352,\n",
       "  'hiperparametros': (16, 10, 8, 0.1, 'sgd', 0.001, 0.4, 1),\n",
       "  'message': 'No errors'},\n",
       " {'loss': 4.600480325081769,\n",
       "  'accurracy': 0.3671361502347418,\n",
       "  'f1': 0.024602026049204053,\n",
       "  'hiperparametros': (8, 10, 4, 0.2, 'sgd', 0.0001, 0.3, 32),\n",
       "  'message': 'No errors'},\n",
       " {'loss': 4.365779032530608,\n",
       "  'accurracy': 0.30375586854460096,\n",
       "  'f1': 0.14326978625072212,\n",
       "  'hiperparametros': (32, 4, 2, 0.1, 'adam', 0.0001, 0.4, 16),\n",
       "  'message': 'No errors'},\n",
       " {'loss': 173912.8956022195,\n",
       "  'accurracy': 0.6352112676056338,\n",
       "  'f1': 0.7766599597585513,\n",
       "  'hiperparametros': (32, 8, 8, 0.4, 'sgd', 1e-05, 0.4, 1),\n",
       "  'message': 'No errors'},\n",
       " {'loss': 4.052820914132255,\n",
       "  'accurracy': 0.48169014084507045,\n",
       "  'f1': 0.5456790123456791,\n",
       "  'hiperparametros': (16, 8, 6, 0.2, 'adam', 0.0001, 0.1, 64),\n",
       "  'message': 'No errors'},\n",
       " {'loss': 173912.74686039382,\n",
       "  'accurracy': 0.6342723004694836,\n",
       "  'f1': 0.776085081920092,\n",
       "  'hiperparametros': (32, 6, 2, 0.2, 'adam', 0.001, 0.4, 1),\n",
       "  'message': 'No errors'},\n",
       " {'loss': 4.2799017588297525,\n",
       "  'accurracy': 0.4323943661971831,\n",
       "  'f1': 0.3764827230531202,\n",
       "  'hiperparametros': (8, 8, 6, 0.4, 'sgd', 1e-05, 0.2, 16),\n",
       "  'message': 'No errors'}]"
      ]
     },
     "execution_count": 5,
     "metadata": {},
     "output_type": "execute_result"
    }
   ],
   "source": [
    "trainer.LOGGER"
   ]
  },
  {
   "cell_type": "code",
   "execution_count": 6,
   "id": "1b06c12e",
   "metadata": {},
   "outputs": [
    {
     "name": "stdout",
     "output_type": "stream",
     "text": [
      "Best f1: 0.776916451335056\n",
      "Best embedding_dim: 32\n",
      "Best net_layers: 8\n",
      "Best net_heads: 2\n",
      "Best dropout: 0.3\n",
      "Best optimizer_class: adam\n",
      "Best learning_rate_initial: 0.01\n",
      "Best gamma: 0.2\n",
      "Best batch_size: 4\n"
     ]
    }
   ],
   "source": [
    "mejor_punto_idx = trainer.retornar_mejor_combinacion_idx()"
   ]
  },
  {
   "cell_type": "code",
   "execution_count": 7,
   "id": "44445986",
   "metadata": {},
   "outputs": [
    {
     "data": {
      "application/vnd.jupyter.widget-view+json": {
       "model_id": "6e6aeafebd3746ae881305c970839d03",
       "version_major": 2,
       "version_minor": 0
      },
      "text/plain": [
       "Training Epochs:   0%|          | 0/10 [00:00<?, ?it/s]"
      ]
     },
     "metadata": {},
     "output_type": "display_data"
    },
    {
     "data": {
      "application/vnd.jupyter.widget-view+json": {
       "model_id": "dafbb8d6237b43e9a9ecc42336d91072",
       "version_major": 2,
       "version_minor": 0
      },
      "text/plain": [
       "Epoch 1:   0%|          | 0/2130 [00:00<?, ?it/s]"
      ]
     },
     "metadata": {},
     "output_type": "display_data"
    },
    {
     "data": {
      "application/vnd.jupyter.widget-view+json": {
       "model_id": "33b3ffd2862b4c19958730fec7214fb5",
       "version_major": 2,
       "version_minor": 0
      },
      "text/plain": [
       "Epoch 2:   0%|          | 0/2130 [00:00<?, ?it/s]"
      ]
     },
     "metadata": {},
     "output_type": "display_data"
    },
    {
     "data": {
      "application/vnd.jupyter.widget-view+json": {
       "model_id": "ccb80a37139f4581a67f7089f75a5777",
       "version_major": 2,
       "version_minor": 0
      },
      "text/plain": [
       "Epoch 3:   0%|          | 0/2130 [00:00<?, ?it/s]"
      ]
     },
     "metadata": {},
     "output_type": "display_data"
    },
    {
     "data": {
      "application/vnd.jupyter.widget-view+json": {
       "model_id": "48949eb0144448fba0bc24085ce21d16",
       "version_major": 2,
       "version_minor": 0
      },
      "text/plain": [
       "Epoch 4:   0%|          | 0/2130 [00:00<?, ?it/s]"
      ]
     },
     "metadata": {},
     "output_type": "display_data"
    },
    {
     "data": {
      "application/vnd.jupyter.widget-view+json": {
       "model_id": "a359052d10c44da3a7e89bacd3c9e784",
       "version_major": 2,
       "version_minor": 0
      },
      "text/plain": [
       "Epoch 5:   0%|          | 0/2130 [00:00<?, ?it/s]"
      ]
     },
     "metadata": {},
     "output_type": "display_data"
    },
    {
     "data": {
      "application/vnd.jupyter.widget-view+json": {
       "model_id": "18e44e7be01b486d92577cf3a5e832ff",
       "version_major": 2,
       "version_minor": 0
      },
      "text/plain": [
       "Epoch 6:   0%|          | 0/2130 [00:00<?, ?it/s]"
      ]
     },
     "metadata": {},
     "output_type": "display_data"
    },
    {
     "data": {
      "application/vnd.jupyter.widget-view+json": {
       "model_id": "39afe17a290d4e72a89ce56c3f881413",
       "version_major": 2,
       "version_minor": 0
      },
      "text/plain": [
       "Epoch 7:   0%|          | 0/2130 [00:00<?, ?it/s]"
      ]
     },
     "metadata": {},
     "output_type": "display_data"
    },
    {
     "data": {
      "application/vnd.jupyter.widget-view+json": {
       "model_id": "5f0b7fe171e5495abc6b137927423a67",
       "version_major": 2,
       "version_minor": 0
      },
      "text/plain": [
       "Epoch 8:   0%|          | 0/2130 [00:00<?, ?it/s]"
      ]
     },
     "metadata": {},
     "output_type": "display_data"
    },
    {
     "data": {
      "application/vnd.jupyter.widget-view+json": {
       "model_id": "45a9bbad48654665ba5744ce3fea76e3",
       "version_major": 2,
       "version_minor": 0
      },
      "text/plain": [
       "Epoch 9:   0%|          | 0/2130 [00:00<?, ?it/s]"
      ]
     },
     "metadata": {},
     "output_type": "display_data"
    },
    {
     "data": {
      "application/vnd.jupyter.widget-view+json": {
       "model_id": "806875a7080e434d87ec1b1c3aba9d3e",
       "version_major": 2,
       "version_minor": 0
      },
      "text/plain": [
       "Epoch 10:   0%|          | 0/2130 [00:00<?, ?it/s]"
      ]
     },
     "metadata": {},
     "output_type": "display_data"
    }
   ],
   "source": [
    "trainer.N_EPOCHS = 10\n",
    "mejor_punto = trainer.puntos[mejor_punto_idx]\n",
    "trainer.TRAINING_IN_EARNEST = True\n",
    "results = trainer.ejecutar_punto(mejor_punto)"
   ]
  },
  {
   "cell_type": "code",
   "execution_count": 8,
   "id": "dfe9b6a0",
   "metadata": {},
   "outputs": [
    {
     "data": {
      "image/png": "[encoded data removed]",
      "text/plain": [
       "<Figure size 900x300 with 3 Axes>"
      ]
     },
     "metadata": {},
     "output_type": "display_data"
    }
   ],
   "source": [
    "trainer.plot_results(results)"
   ]
  },
  {
   "cell_type": "code",
   "execution_count": 9,
   "id": "b41d77d6",
   "metadata": {},
   "outputs": [
    {
     "name": "stdout",
     "output_type": "stream",
     "text": [
      "Self guardado con éxito en C:\\Users\\andra\\Documents\\TestBERT\\data\\trainer\\trainer.pkl\n"
     ]
    }
   ],
   "source": [
    "trainer.save()"
   ]
  }
 ],
 "metadata": {
  "kernelspec": {
   "display_name": "base",
   "language": "python",
   "name": "python3"
  },
  "language_info": {
   "codemirror_mode": {
    "name": "ipython",
    "version": 3
   },
   "file_extension": ".py",
   "mimetype": "text/x-python",
   "name": "python",
   "nbconvert_exporter": "python",
   "pygments_lexer": "ipython3",
   "version": "3.11.5"
  }
 },
 "nbformat": 4,
 "nbformat_minor": 5
}
