{
 "cells": [
  {
   "cell_type": "code",
   "execution_count": 19,
   "id": "5cde1e8a",
   "metadata": {},
   "outputs": [],
   "source": [
    "import sys\n",
    "sys.path.append(\"../..\")\n",
    "\n",
    "import warnings\n",
    "warnings.filterwarnings('ignore')\n",
    "\n",
    "import torch\n",
    "\n",
    "from src.utils.barrido import NNTrainer\n",
    "from src.config import PATHS\n",
    "\n",
    "import warnings\n",
    "warnings.filterwarnings('ignore')"
   ]
  },
  {
   "cell_type": "code",
   "execution_count": 2,
   "id": "bb81d39b",
   "metadata": {},
   "outputs": [],
   "source": [
    "dataset_folder = PATHS[\"training_data_folder\"]\n",
    "tokenizer_folder = PATHS[\"tokenizer_folder\"]"
   ]
  },
  {
   "cell_type": "code",
   "execution_count": 3,
   "id": "46a4db04",
   "metadata": {},
   "outputs": [],
   "source": [
    "trainer = NNTrainer(\n",
    "    nombre='equivalencia',\n",
    "    tokenizer_file=tokenizer_folder / 'tokenizer_5.pkl',\n",
    "    path_dataset=dataset_folder / 'bert_data_equivalencia_5.csv'\n",
    ")"
   ]
  },
  {
   "cell_type": "code",
   "execution_count": 4,
   "id": "58929b2f",
   "metadata": {},
   "outputs": [
    {
     "data": {
      "application/vnd.jupyter.widget-view+json": {
       "model_id": "c9047aca3c214f13b164f22f03afd9e9",
       "version_major": 2,
       "version_minor": 0
      },
      "text/plain": [
       "Ejecutando punto...:   0%|          | 0/15 [00:00<?, ?it/s]"
      ]
     },
     "metadata": {},
     "output_type": "display_data"
    },
    {
     "data": {
      "application/vnd.jupyter.widget-view+json": {
       "model_id": "7cbd88a168454afd93819e95bfe09dee",
       "version_major": 2,
       "version_minor": 0
      },
      "text/plain": [
       "Training Epochs:   0%|          | 0/2 [00:00<?, ?it/s]"
      ]
     },
     "metadata": {},
     "output_type": "display_data"
    },
    {
     "data": {
      "application/vnd.jupyter.widget-view+json": {
       "model_id": "af1d2496a8554903b9f03de486c28033",
       "version_major": 2,
       "version_minor": 0
      },
      "text/plain": [
       "Epoch 1:   0%|          | 0/666 [00:00<?, ?it/s]"
      ]
     },
     "metadata": {},
     "output_type": "display_data"
    },
    {
     "data": {
      "application/vnd.jupyter.widget-view+json": {
       "model_id": "d1a1994c196f4c79a4ed35ec53d0d3ec",
       "version_major": 2,
       "version_minor": 0
      },
      "text/plain": [
       "Epoch 2:   0%|          | 0/666 [00:00<?, ?it/s]"
      ]
     },
     "metadata": {},
     "output_type": "display_data"
    },
    {
     "data": {
      "application/vnd.jupyter.widget-view+json": {
       "model_id": "0491d342c99b441488094cb2059f28fc",
       "version_major": 2,
       "version_minor": 0
      },
      "text/plain": [
       "Training Epochs:   0%|          | 0/2 [00:00<?, ?it/s]"
      ]
     },
     "metadata": {},
     "output_type": "display_data"
    },
    {
     "data": {
      "application/vnd.jupyter.widget-view+json": {
       "model_id": "c2355ff3b36c425ab545485c2cac25dd",
       "version_major": 2,
       "version_minor": 0
      },
      "text/plain": [
       "Epoch 1:   0%|          | 0/2663 [00:00<?, ?it/s]"
      ]
     },
     "metadata": {},
     "output_type": "display_data"
    },
    {
     "data": {
      "application/vnd.jupyter.widget-view+json": {
       "model_id": "01c8286ee0da4aef8bff06ec9a4eb82a",
       "version_major": 2,
       "version_minor": 0
      },
      "text/plain": [
       "Epoch 2:   0%|          | 0/2663 [00:00<?, ?it/s]"
      ]
     },
     "metadata": {},
     "output_type": "display_data"
    },
    {
     "data": {
      "application/vnd.jupyter.widget-view+json": {
       "model_id": "d0ff639cde764158bc6f20bb3f9560f3",
       "version_major": 2,
       "version_minor": 0
      },
      "text/plain": [
       "Training Epochs:   0%|          | 0/2 [00:00<?, ?it/s]"
      ]
     },
     "metadata": {},
     "output_type": "display_data"
    },
    {
     "data": {
      "application/vnd.jupyter.widget-view+json": {
       "model_id": "af3f7b34e3a74004a46b5ec54443fe56",
       "version_major": 2,
       "version_minor": 0
      },
      "text/plain": [
       "Epoch 1:   0%|          | 0/1332 [00:00<?, ?it/s]"
      ]
     },
     "metadata": {},
     "output_type": "display_data"
    },
    {
     "data": {
      "application/vnd.jupyter.widget-view+json": {
       "model_id": "b485d85f4616422c9a2028a9da3929ff",
       "version_major": 2,
       "version_minor": 0
      },
      "text/plain": [
       "Epoch 2:   0%|          | 0/1332 [00:00<?, ?it/s]"
      ]
     },
     "metadata": {},
     "output_type": "display_data"
    },
    {
     "data": {
      "application/vnd.jupyter.widget-view+json": {
       "model_id": "a0a1c1f36a21438b9c5da115caf82f44",
       "version_major": 2,
       "version_minor": 0
      },
      "text/plain": [
       "Training Epochs:   0%|          | 0/2 [00:00<?, ?it/s]"
      ]
     },
     "metadata": {},
     "output_type": "display_data"
    },
    {
     "data": {
      "application/vnd.jupyter.widget-view+json": {
       "model_id": "052ced41c57a49808649471205b53293",
       "version_major": 2,
       "version_minor": 0
      },
      "text/plain": [
       "Epoch 1:   0%|          | 0/10650 [00:00<?, ?it/s]"
      ]
     },
     "metadata": {},
     "output_type": "display_data"
    },
    {
     "data": {
      "application/vnd.jupyter.widget-view+json": {
       "model_id": "9186ce6884154d5bbc3f8a038feb391e",
       "version_major": 2,
       "version_minor": 0
      },
      "text/plain": [
       "Epoch 2:   0%|          | 0/10650 [00:00<?, ?it/s]"
      ]
     },
     "metadata": {},
     "output_type": "display_data"
    },
    {
     "data": {
      "application/vnd.jupyter.widget-view+json": {
       "model_id": "e00e7307427945b7bc3d88c56a477bbe",
       "version_major": 2,
       "version_minor": 0
      },
      "text/plain": [
       "Training Epochs:   0%|          | 0/2 [00:00<?, ?it/s]"
      ]
     },
     "metadata": {},
     "output_type": "display_data"
    },
    {
     "data": {
      "application/vnd.jupyter.widget-view+json": {
       "model_id": "0a91abd642d14aeb95908f2fcaaff5e4",
       "version_major": 2,
       "version_minor": 0
      },
      "text/plain": [
       "Epoch 1:   0%|          | 0/1332 [00:00<?, ?it/s]"
      ]
     },
     "metadata": {},
     "output_type": "display_data"
    },
    {
     "data": {
      "application/vnd.jupyter.widget-view+json": {
       "model_id": "9975449832b34963af039cbb03a4b4d9",
       "version_major": 2,
       "version_minor": 0
      },
      "text/plain": [
       "Epoch 2:   0%|          | 0/1332 [00:00<?, ?it/s]"
      ]
     },
     "metadata": {},
     "output_type": "display_data"
    },
    {
     "data": {
      "application/vnd.jupyter.widget-view+json": {
       "model_id": "bef3f7a530dd47879ccb04def1e0045f",
       "version_major": 2,
       "version_minor": 0
      },
      "text/plain": [
       "Training Epochs:   0%|          | 0/2 [00:00<?, ?it/s]"
      ]
     },
     "metadata": {},
     "output_type": "display_data"
    },
    {
     "data": {
      "application/vnd.jupyter.widget-view+json": {
       "model_id": "25ccbd349d594c7cbed7e0e39c068a30",
       "version_major": 2,
       "version_minor": 0
      },
      "text/plain": [
       "Epoch 1:   0%|          | 0/10650 [00:00<?, ?it/s]"
      ]
     },
     "metadata": {},
     "output_type": "display_data"
    },
    {
     "data": {
      "application/vnd.jupyter.widget-view+json": {
       "model_id": "b6e52dc055d04a9baf74a95e0f06b74e",
       "version_major": 2,
       "version_minor": 0
      },
      "text/plain": [
       "Epoch 2:   0%|          | 0/10650 [00:00<?, ?it/s]"
      ]
     },
     "metadata": {},
     "output_type": "display_data"
    },
    {
     "data": {
      "application/vnd.jupyter.widget-view+json": {
       "model_id": "63da2a6e9e084d8f945299e07babbace",
       "version_major": 2,
       "version_minor": 0
      },
      "text/plain": [
       "Training Epochs:   0%|          | 0/2 [00:00<?, ?it/s]"
      ]
     },
     "metadata": {},
     "output_type": "display_data"
    },
    {
     "data": {
      "application/vnd.jupyter.widget-view+json": {
       "model_id": "21f9f9b1a5d54fb397a2b92feb2df6fb",
       "version_major": 2,
       "version_minor": 0
      },
      "text/plain": [
       "Epoch 1:   0%|          | 0/2663 [00:00<?, ?it/s]"
      ]
     },
     "metadata": {},
     "output_type": "display_data"
    },
    {
     "data": {
      "application/vnd.jupyter.widget-view+json": {
       "model_id": "d7fbd7be42614385bc8232af73b8ccc7",
       "version_major": 2,
       "version_minor": 0
      },
      "text/plain": [
       "Epoch 2:   0%|          | 0/2663 [00:00<?, ?it/s]"
      ]
     },
     "metadata": {},
     "output_type": "display_data"
    },
    {
     "data": {
      "application/vnd.jupyter.widget-view+json": {
       "model_id": "153f581c7b3d4a9aaf893ed409729104",
       "version_major": 2,
       "version_minor": 0
      },
      "text/plain": [
       "Training Epochs:   0%|          | 0/2 [00:00<?, ?it/s]"
      ]
     },
     "metadata": {},
     "output_type": "display_data"
    },
    {
     "data": {
      "application/vnd.jupyter.widget-view+json": {
       "model_id": "686b864e9d244e48b2fd9cf05ce78dc9",
       "version_major": 2,
       "version_minor": 0
      },
      "text/plain": [
       "Epoch 1:   0%|          | 0/42600 [00:00<?, ?it/s]"
      ]
     },
     "metadata": {},
     "output_type": "display_data"
    },
    {
     "data": {
      "application/vnd.jupyter.widget-view+json": {
       "model_id": "1f046c9dde1a40519ffe74e66580e0d1",
       "version_major": 2,
       "version_minor": 0
      },
      "text/plain": [
       "Epoch 2:   0%|          | 0/42600 [00:00<?, ?it/s]"
      ]
     },
     "metadata": {},
     "output_type": "display_data"
    },
    {
     "data": {
      "application/vnd.jupyter.widget-view+json": {
       "model_id": "fb699105553744c689fb1ac7f5c2b9f2",
       "version_major": 2,
       "version_minor": 0
      },
      "text/plain": [
       "Training Epochs:   0%|          | 0/2 [00:00<?, ?it/s]"
      ]
     },
     "metadata": {},
     "output_type": "display_data"
    },
    {
     "data": {
      "application/vnd.jupyter.widget-view+json": {
       "model_id": "baf4f52c7f574619be8c01128088a5dd",
       "version_major": 2,
       "version_minor": 0
      },
      "text/plain": [
       "Epoch 1:   0%|          | 0/1332 [00:00<?, ?it/s]"
      ]
     },
     "metadata": {},
     "output_type": "display_data"
    },
    {
     "data": {
      "application/vnd.jupyter.widget-view+json": {
       "model_id": "b4b10c7c8b814c33ac1ea39a151fed7b",
       "version_major": 2,
       "version_minor": 0
      },
      "text/plain": [
       "Epoch 2:   0%|          | 0/1332 [00:00<?, ?it/s]"
      ]
     },
     "metadata": {},
     "output_type": "display_data"
    },
    {
     "data": {
      "application/vnd.jupyter.widget-view+json": {
       "model_id": "fcd95bbe96af4f3ea2d640a60e9da0c6",
       "version_major": 2,
       "version_minor": 0
      },
      "text/plain": [
       "Training Epochs:   0%|          | 0/2 [00:00<?, ?it/s]"
      ]
     },
     "metadata": {},
     "output_type": "display_data"
    },
    {
     "data": {
      "application/vnd.jupyter.widget-view+json": {
       "model_id": "97bd91abd4ae4edfad7e3d884538bde9",
       "version_major": 2,
       "version_minor": 0
      },
      "text/plain": [
       "Epoch 1:   0%|          | 0/666 [00:00<?, ?it/s]"
      ]
     },
     "metadata": {},
     "output_type": "display_data"
    },
    {
     "data": {
      "application/vnd.jupyter.widget-view+json": {
       "model_id": "56294b919f54421090e1b8ac617c7718",
       "version_major": 2,
       "version_minor": 0
      },
      "text/plain": [
       "Epoch 2:   0%|          | 0/666 [00:00<?, ?it/s]"
      ]
     },
     "metadata": {},
     "output_type": "display_data"
    },
    {
     "data": {
      "application/vnd.jupyter.widget-view+json": {
       "model_id": "a1c950eed8b045059e9a6c4304b92ce1",
       "version_major": 2,
       "version_minor": 0
      },
      "text/plain": [
       "Training Epochs:   0%|          | 0/2 [00:00<?, ?it/s]"
      ]
     },
     "metadata": {},
     "output_type": "display_data"
    },
    {
     "data": {
      "application/vnd.jupyter.widget-view+json": {
       "model_id": "0226188480af44fda0e630c7fe3f71d2",
       "version_major": 2,
       "version_minor": 0
      },
      "text/plain": [
       "Epoch 1:   0%|          | 0/1332 [00:00<?, ?it/s]"
      ]
     },
     "metadata": {},
     "output_type": "display_data"
    },
    {
     "data": {
      "application/vnd.jupyter.widget-view+json": {
       "model_id": "9ff487fe0dcb4a468047c71dcc2cfd28",
       "version_major": 2,
       "version_minor": 0
      },
      "text/plain": [
       "Epoch 2:   0%|          | 0/1332 [00:00<?, ?it/s]"
      ]
     },
     "metadata": {},
     "output_type": "display_data"
    },
    {
     "data": {
      "application/vnd.jupyter.widget-view+json": {
       "model_id": "e6b114c386ab4f7b9f15f5069bc8004c",
       "version_major": 2,
       "version_minor": 0
      },
      "text/plain": [
       "Training Epochs:   0%|          | 0/2 [00:00<?, ?it/s]"
      ]
     },
     "metadata": {},
     "output_type": "display_data"
    },
    {
     "data": {
      "application/vnd.jupyter.widget-view+json": {
       "model_id": "5e18d4ce92cb477eb09d49f1559ce382",
       "version_major": 2,
       "version_minor": 0
      },
      "text/plain": [
       "Epoch 1:   0%|          | 0/2663 [00:00<?, ?it/s]"
      ]
     },
     "metadata": {},
     "output_type": "display_data"
    },
    {
     "data": {
      "application/vnd.jupyter.widget-view+json": {
       "model_id": "38370b79f4814fc29b2ba25d751df412",
       "version_major": 2,
       "version_minor": 0
      },
      "text/plain": [
       "Epoch 2:   0%|          | 0/2663 [00:00<?, ?it/s]"
      ]
     },
     "metadata": {},
     "output_type": "display_data"
    },
    {
     "data": {
      "application/vnd.jupyter.widget-view+json": {
       "model_id": "a0cf260b1d884a2f9ae1015781c95125",
       "version_major": 2,
       "version_minor": 0
      },
      "text/plain": [
       "Training Epochs:   0%|          | 0/2 [00:00<?, ?it/s]"
      ]
     },
     "metadata": {},
     "output_type": "display_data"
    },
    {
     "data": {
      "application/vnd.jupyter.widget-view+json": {
       "model_id": "0d594d3db8804316bd004c11821147f3",
       "version_major": 2,
       "version_minor": 0
      },
      "text/plain": [
       "Epoch 1:   0%|          | 0/666 [00:00<?, ?it/s]"
      ]
     },
     "metadata": {},
     "output_type": "display_data"
    },
    {
     "data": {
      "application/vnd.jupyter.widget-view+json": {
       "model_id": "18c04ac77b2441bd847f602d2e62e4e2",
       "version_major": 2,
       "version_minor": 0
      },
      "text/plain": [
       "Epoch 2:   0%|          | 0/666 [00:00<?, ?it/s]"
      ]
     },
     "metadata": {},
     "output_type": "display_data"
    },
    {
     "data": {
      "application/vnd.jupyter.widget-view+json": {
       "model_id": "af2b99ccb3f44326ac9e74af6beee695",
       "version_major": 2,
       "version_minor": 0
      },
      "text/plain": [
       "Training Epochs:   0%|          | 0/2 [00:00<?, ?it/s]"
      ]
     },
     "metadata": {},
     "output_type": "display_data"
    },
    {
     "data": {
      "application/vnd.jupyter.widget-view+json": {
       "model_id": "3b0ef3a0f34b438482ab4ced6e6b0132",
       "version_major": 2,
       "version_minor": 0
      },
      "text/plain": [
       "Epoch 1:   0%|          | 0/10650 [00:00<?, ?it/s]"
      ]
     },
     "metadata": {},
     "output_type": "display_data"
    },
    {
     "data": {
      "application/vnd.jupyter.widget-view+json": {
       "model_id": "bab8f1b9c34f47cabf688ab25445ee34",
       "version_major": 2,
       "version_minor": 0
      },
      "text/plain": [
       "Epoch 2:   0%|          | 0/10650 [00:00<?, ?it/s]"
      ]
     },
     "metadata": {},
     "output_type": "display_data"
    },
    {
     "data": {
      "application/vnd.jupyter.widget-view+json": {
       "model_id": "89c3b2680e234d76be4dbd0f6e56571c",
       "version_major": 2,
       "version_minor": 0
      },
      "text/plain": [
       "Training Epochs:   0%|          | 0/2 [00:00<?, ?it/s]"
      ]
     },
     "metadata": {},
     "output_type": "display_data"
    },
    {
     "data": {
      "application/vnd.jupyter.widget-view+json": {
       "model_id": "c79f349e912947fa968a3f8a2e09be1a",
       "version_major": 2,
       "version_minor": 0
      },
      "text/plain": [
       "Epoch 1:   0%|          | 0/10650 [00:00<?, ?it/s]"
      ]
     },
     "metadata": {},
     "output_type": "display_data"
    },
    {
     "data": {
      "application/vnd.jupyter.widget-view+json": {
       "model_id": "157410f44a084639bba913badecd2b87",
       "version_major": 2,
       "version_minor": 0
      },
      "text/plain": [
       "Epoch 2:   0%|          | 0/10650 [00:00<?, ?it/s]"
      ]
     },
     "metadata": {},
     "output_type": "display_data"
    },
    {
     "name": "stdout",
     "output_type": "stream",
     "text": [
      "[{'loss': 5.606909368719373, 'accurracy': 0.37502347417840376, 'f1': 0.005379557680812911, 'hiperparametros': (16, 6, 8, 0.3, 'adam', 1e-05, 0.2, 64), 'message': 'No errors'}, {'loss': 5.7638838966747095, 'accurracy': 0.6264788732394366, 'f1': 0.7703498441288534, 'hiperparametros': (32, 4, 8, 0.4, 'adam', 0.01, 0.4, 16), 'message': 'No errors'}, {'loss': 4.688170571527081, 'accurracy': 0.37352112676056337, 'f1': 0.0, 'hiperparametros': (4, 10, 8, 0.1, 'adam', 1e-05, 0.2, 32), 'message': 'No errors'}, {'loss': 19251.93472109539, 'accurracy': 0.37352112676056337, 'f1': 0.0, 'hiperparametros': (16, 10, 8, 0.1, 'sgd', 0.0001, 0.4, 4), 'message': 'No errors'}, {'loss': 5.19751509649311, 'accurracy': 0.6274178403755869, 'f1': 0.7706623511732746, 'hiperparametros': (8, 6, 2, 0.3, 'sgd', 0.0001, 0.4, 32), 'message': 'No errors'}, {'loss': 19253.136752222515, 'accurracy': 0.6253521126760564, 'f1': 0.7692574600971547, 'hiperparametros': (4, 10, 2, 0.3, 'sgd', 0.001, 0.4, 4), 'message': 'No errors'}, {'loss': 4.878804612910372, 'accurracy': 0.6266666666666667, 'f1': 0.7703592468522582, 'hiperparametros': (8, 4, 4, 0.1, 'adam', 0.0001, 0.4, 16), 'message': 'No errors'}, {'loss': 167685.30973791124, 'accurracy': 0.6264788732394366, 'f1': 0.7703498441288534, 'hiperparametros': (16, 4, 6, 0.1, 'adam', 0.01, 0.3, 1), 'message': 'No errors'}, {'loss': 6.1509818745230485, 'accurracy': 0.6264788732394366, 'f1': 0.7703498441288534, 'hiperparametros': (32, 8, 6, 0.4, 'adam', 0.0001, 0.1, 32), 'message': 'No errors'}, {'loss': 4.451360492479234, 'accurracy': 0.37352112676056337, 'f1': 0.0, 'hiperparametros': (4, 10, 2, 0.2, 'sgd', 0.01, 0.3, 64), 'message': 'No errors'}, {'loss': 5.044602693911798, 'accurracy': 0.6264788732394366, 'f1': 0.7703498441288534, 'hiperparametros': (4, 8, 4, 0.2, 'adam', 0.0001, 0.2, 32), 'message': 'No errors'}, {'loss': 4.425420091963601, 'accurracy': 0.37342723004694833, 'f1': 0.0023919868440723576, 'hiperparametros': (16, 4, 6, 0.2, 'sgd', 1e-05, 0.4, 16), 'message': 'No errors'}, {'loss': 4.774461839880262, 'accurracy': 0.5411267605633803, 'f1': 0.6402120297430611, 'hiperparametros': (16, 4, 6, 0.1, 'sgd', 0.0001, 0.3, 64), 'message': 'No errors'}, {'loss': 19252.54279518405, 'accurracy': 0.37352112676056337, 'f1': 0.0, 'hiperparametros': (8, 10, 4, 0.1, 'adam', 0.0001, 0.1, 4), 'message': 'No errors'}, {'loss': 19253.23434051319, 'accurracy': 0.6269483568075117, 'f1': 0.7704927502743921, 'hiperparametros': (8, 8, 8, 0.3, 'adam', 0.001, 0.4, 4), 'message': 'No errors'}]\n",
      "¡Barrido terminado!\n"
     ]
    }
   ],
   "source": [
    "trainer.ejecutar_barrido()"
   ]
  },
  {
   "cell_type": "code",
   "execution_count": 12,
   "id": "1b06c12e",
   "metadata": {},
   "outputs": [
    {
     "name": "stdout",
     "output_type": "stream",
     "text": [
      "Best f1: 0.7706623511732746\n",
      "Best embedding_dim: 8\n",
      "Best net_layers: 6\n",
      "Best net_heads: 2\n",
      "Best dropout: 0.3\n",
      "Best optimizer_class: sgd\n",
      "Best learning_rate_initial: 0.0001\n",
      "Best gamma: 0.4\n",
      "Best batch_size: 32\n"
     ]
    }
   ],
   "source": [
    "mejor_punto_idx = trainer.retornar_mejor_combinacion_idx()"
   ]
  },
  {
   "cell_type": "code",
   "execution_count": 6,
   "id": "be3db856",
   "metadata": {},
   "outputs": [
    {
     "data": {
      "text/plain": [
       "[{'loss': 5.606909368719373,\n",
       "  'accurracy': 0.37502347417840376,\n",
       "  'f1': 0.005379557680812911,\n",
       "  'hiperparametros': (16, 6, 8, 0.3, 'adam', 1e-05, 0.2, 64),\n",
       "  'message': 'No errors'},\n",
       " {'loss': 5.7638838966747095,\n",
       "  'accurracy': 0.6264788732394366,\n",
       "  'f1': 0.7703498441288534,\n",
       "  'hiperparametros': (32, 4, 8, 0.4, 'adam', 0.01, 0.4, 16),\n",
       "  'message': 'No errors'},\n",
       " {'loss': 4.688170571527081,\n",
       "  'accurracy': 0.37352112676056337,\n",
       "  'f1': 0.0,\n",
       "  'hiperparametros': (4, 10, 8, 0.1, 'adam', 1e-05, 0.2, 32),\n",
       "  'message': 'No errors'},\n",
       " {'loss': 19251.93472109539,\n",
       "  'accurracy': 0.37352112676056337,\n",
       "  'f1': 0.0,\n",
       "  'hiperparametros': (16, 10, 8, 0.1, 'sgd', 0.0001, 0.4, 4),\n",
       "  'message': 'No errors'},\n",
       " {'loss': 5.19751509649311,\n",
       "  'accurracy': 0.6274178403755869,\n",
       "  'f1': 0.7706623511732746,\n",
       "  'hiperparametros': (8, 6, 2, 0.3, 'sgd', 0.0001, 0.4, 32),\n",
       "  'message': 'No errors'},\n",
       " {'loss': 19253.136752222515,\n",
       "  'accurracy': 0.6253521126760564,\n",
       "  'f1': 0.7692574600971547,\n",
       "  'hiperparametros': (4, 10, 2, 0.3, 'sgd', 0.001, 0.4, 4),\n",
       "  'message': 'No errors'},\n",
       " {'loss': 4.878804612910372,\n",
       "  'accurracy': 0.6266666666666667,\n",
       "  'f1': 0.7703592468522582,\n",
       "  'hiperparametros': (8, 4, 4, 0.1, 'adam', 0.0001, 0.4, 16),\n",
       "  'message': 'No errors'},\n",
       " {'loss': 167685.30973791124,\n",
       "  'accurracy': 0.6264788732394366,\n",
       "  'f1': 0.7703498441288534,\n",
       "  'hiperparametros': (16, 4, 6, 0.1, 'adam', 0.01, 0.3, 1),\n",
       "  'message': 'No errors'},\n",
       " {'loss': 6.1509818745230485,\n",
       "  'accurracy': 0.6264788732394366,\n",
       "  'f1': 0.7703498441288534,\n",
       "  'hiperparametros': (32, 8, 6, 0.4, 'adam', 0.0001, 0.1, 32),\n",
       "  'message': 'No errors'},\n",
       " {'loss': 4.451360492479234,\n",
       "  'accurracy': 0.37352112676056337,\n",
       "  'f1': 0.0,\n",
       "  'hiperparametros': (4, 10, 2, 0.2, 'sgd', 0.01, 0.3, 64),\n",
       "  'message': 'No errors'},\n",
       " {'loss': 5.044602693911798,\n",
       "  'accurracy': 0.6264788732394366,\n",
       "  'f1': 0.7703498441288534,\n",
       "  'hiperparametros': (4, 8, 4, 0.2, 'adam', 0.0001, 0.2, 32),\n",
       "  'message': 'No errors'},\n",
       " {'loss': 4.425420091963601,\n",
       "  'accurracy': 0.37342723004694833,\n",
       "  'f1': 0.0023919868440723576,\n",
       "  'hiperparametros': (16, 4, 6, 0.2, 'sgd', 1e-05, 0.4, 16),\n",
       "  'message': 'No errors'},\n",
       " {'loss': 4.774461839880262,\n",
       "  'accurracy': 0.5411267605633803,\n",
       "  'f1': 0.6402120297430611,\n",
       "  'hiperparametros': (16, 4, 6, 0.1, 'sgd', 0.0001, 0.3, 64),\n",
       "  'message': 'No errors'},\n",
       " {'loss': 19252.54279518405,\n",
       "  'accurracy': 0.37352112676056337,\n",
       "  'f1': 0.0,\n",
       "  'hiperparametros': (8, 10, 4, 0.1, 'adam', 0.0001, 0.1, 4),\n",
       "  'message': 'No errors'},\n",
       " {'loss': 19253.23434051319,\n",
       "  'accurracy': 0.6269483568075117,\n",
       "  'f1': 0.7704927502743921,\n",
       "  'hiperparametros': (8, 8, 8, 0.3, 'adam', 0.001, 0.4, 4),\n",
       "  'message': 'No errors'}]"
      ]
     },
     "execution_count": 6,
     "metadata": {},
     "output_type": "execute_result"
    }
   ],
   "source": [
    "trainer.LOGGER"
   ]
  },
  {
   "cell_type": "code",
   "execution_count": 13,
   "id": "44445986",
   "metadata": {},
   "outputs": [
    {
     "data": {
      "application/vnd.jupyter.widget-view+json": {
       "model_id": "747c5cdd93d64fe9a30f7a114e51fa28",
       "version_major": 2,
       "version_minor": 0
      },
      "text/plain": [
       "Training Epochs:   0%|          | 0/10 [00:00<?, ?it/s]"
      ]
     },
     "metadata": {},
     "output_type": "display_data"
    },
    {
     "data": {
      "application/vnd.jupyter.widget-view+json": {
       "model_id": "e6274d0d825542aba2a66ac77c101337",
       "version_major": 2,
       "version_minor": 0
      },
      "text/plain": [
       "Epoch 1:   0%|          | 0/1332 [00:00<?, ?it/s]"
      ]
     },
     "metadata": {},
     "output_type": "display_data"
    },
    {
     "data": {
      "application/vnd.jupyter.widget-view+json": {
       "model_id": "ae32510429754d0d911a0ef0efc70499",
       "version_major": 2,
       "version_minor": 0
      },
      "text/plain": [
       "Epoch 2:   0%|          | 0/1332 [00:00<?, ?it/s]"
      ]
     },
     "metadata": {},
     "output_type": "display_data"
    },
    {
     "data": {
      "application/vnd.jupyter.widget-view+json": {
       "model_id": "e49dc07a876948daac8bc60a5b6b154e",
       "version_major": 2,
       "version_minor": 0
      },
      "text/plain": [
       "Epoch 3:   0%|          | 0/1332 [00:00<?, ?it/s]"
      ]
     },
     "metadata": {},
     "output_type": "display_data"
    },
    {
     "data": {
      "application/vnd.jupyter.widget-view+json": {
       "model_id": "7d53827998724f8ca0fcea9bb2431cba",
       "version_major": 2,
       "version_minor": 0
      },
      "text/plain": [
       "Epoch 4:   0%|          | 0/1332 [00:00<?, ?it/s]"
      ]
     },
     "metadata": {},
     "output_type": "display_data"
    },
    {
     "data": {
      "application/vnd.jupyter.widget-view+json": {
       "model_id": "ff56b09257174aae82651e38a8a73011",
       "version_major": 2,
       "version_minor": 0
      },
      "text/plain": [
       "Epoch 5:   0%|          | 0/1332 [00:00<?, ?it/s]"
      ]
     },
     "metadata": {},
     "output_type": "display_data"
    },
    {
     "data": {
      "application/vnd.jupyter.widget-view+json": {
       "model_id": "063569f5ffbc43719ed74f3c3e1c3d37",
       "version_major": 2,
       "version_minor": 0
      },
      "text/plain": [
       "Epoch 6:   0%|          | 0/1332 [00:00<?, ?it/s]"
      ]
     },
     "metadata": {},
     "output_type": "display_data"
    },
    {
     "data": {
      "application/vnd.jupyter.widget-view+json": {
       "model_id": "3bb12b8bc27e4011bdd417eee6d7ad11",
       "version_major": 2,
       "version_minor": 0
      },
      "text/plain": [
       "Epoch 7:   0%|          | 0/1332 [00:00<?, ?it/s]"
      ]
     },
     "metadata": {},
     "output_type": "display_data"
    },
    {
     "data": {
      "application/vnd.jupyter.widget-view+json": {
       "model_id": "4021445d85474fdcafb6d3d771f71a32",
       "version_major": 2,
       "version_minor": 0
      },
      "text/plain": [
       "Epoch 8:   0%|          | 0/1332 [00:00<?, ?it/s]"
      ]
     },
     "metadata": {},
     "output_type": "display_data"
    },
    {
     "data": {
      "application/vnd.jupyter.widget-view+json": {
       "model_id": "b1a9cca5106b4e4cba56768d0246d248",
       "version_major": 2,
       "version_minor": 0
      },
      "text/plain": [
       "Epoch 9:   0%|          | 0/1332 [00:00<?, ?it/s]"
      ]
     },
     "metadata": {},
     "output_type": "display_data"
    },
    {
     "data": {
      "application/vnd.jupyter.widget-view+json": {
       "model_id": "3b52456178ae468b9d448676654680a6",
       "version_major": 2,
       "version_minor": 0
      },
      "text/plain": [
       "Epoch 10:   0%|          | 0/1332 [00:00<?, ?it/s]"
      ]
     },
     "metadata": {},
     "output_type": "display_data"
    }
   ],
   "source": [
    "trainer.N_EPOCHS = 10\n",
    "mejor_punto = trainer.puntos[mejor_punto_idx]\n",
    "trainer.TRAINING_IN_EARNEST = True\n",
    "results = trainer.ejecutar_punto(mejor_punto)"
   ]
  },
  {
   "cell_type": "code",
   "execution_count": 14,
   "id": "dfe9b6a0",
   "metadata": {},
   "outputs": [
    {
     "data": {
      "image/png": "[encoded data removed]",
      "text/plain": [
       "<Figure size 900x300 with 3 Axes>"
      ]
     },
     "metadata": {},
     "output_type": "display_data"
    }
   ],
   "source": [
    "trainer.plot_results(results)"
   ]
  },
  {
   "cell_type": "code",
   "execution_count": 15,
   "id": "b41d77d6",
   "metadata": {},
   "outputs": [
    {
     "name": "stdout",
     "output_type": "stream",
     "text": [
      "Self guardado con éxito en C:\\Users\\andra\\Documents\\TestBERT\\data\\trainer\\trainer.pkl\n"
     ]
    }
   ],
   "source": [
    "trainer.save()"
   ]
  },
  {
   "cell_type": "code",
   "execution_count": 20,
   "id": "4ead2b9e",
   "metadata": {},
   "outputs": [],
   "source": [
    "model_file = PATHS['models_folder'] / 'modelo_equivalencia_5.pt'\n",
    "\n",
    "# Save model\n",
    "torch.save(trainer.model.state_dict(), model_file)"
   ]
  }
 ],
 "metadata": {
  "kernelspec": {
   "display_name": "3.11.5",
   "language": "python",
   "name": "python3"
  },
  "language_info": {
   "codemirror_mode": {
    "name": "ipython",
    "version": 3
   },
   "file_extension": ".py",
   "mimetype": "text/x-python",
   "name": "python",
   "nbconvert_exporter": "python",
   "pygments_lexer": "ipython3",
   "version": "3.11.5"
  }
 },
 "nbformat": 4,
 "nbformat_minor": 5
}
