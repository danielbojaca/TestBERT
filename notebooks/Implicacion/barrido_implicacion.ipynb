{
 "cells": [
  {
   "cell_type": "code",
   "execution_count": 1,
   "id": "5cde1e8a",
   "metadata": {},
   "outputs": [],
   "source": [
    "import sys\n",
    "sys.path.append(\"../..\")\n",
    "\n",
    "import warnings\n",
    "warnings.filterwarnings('ignore')\n",
    "\n",
    "import torch\n",
    "\n",
    "from src.utils.barrido import NNTrainer\n",
    "from src.config import PATHS\n",
    "\n",
    "import warnings\n",
    "warnings.filterwarnings('ignore')"
   ]
  },
  {
   "cell_type": "code",
   "execution_count": 2,
   "id": "bb81d39b",
   "metadata": {},
   "outputs": [],
   "source": [
    "dataset_folder = PATHS[\"training_data_folder\"]\n",
    "tokenizer_folder = PATHS[\"tokenizer_folder\"]"
   ]
  },
  {
   "cell_type": "code",
   "execution_count": 3,
   "id": "46a4db04",
   "metadata": {},
   "outputs": [],
   "source": [
    "trainer = NNTrainer(\n",
    "    nombre='implicacion',\n",
    "    tokenizer_file=tokenizer_folder / 'tokenizer_5.pkl',\n",
    "    path_dataset=dataset_folder / 'bert_data_implicacion_5.csv'\n",
    ")"
   ]
  },
  {
   "cell_type": "code",
   "execution_count": 4,
   "id": "58929b2f",
   "metadata": {},
   "outputs": [
    {
     "data": {
      "application/vnd.jupyter.widget-view+json": {
       "model_id": "bbcc82d10bcb43f5a231b381284558a6",
       "version_major": 2,
       "version_minor": 0
      },
      "text/plain": [
       "Ejecutando punto...:   0%|          | 0/20 [00:00<?, ?it/s]"
      ]
     },
     "metadata": {},
     "output_type": "display_data"
    },
    {
     "data": {
      "application/vnd.jupyter.widget-view+json": {
       "model_id": "8ed3c34c43cf4eb5b766670d31993c79",
       "version_major": 2,
       "version_minor": 0
      },
      "text/plain": [
       "Training Epochs:   0%|          | 0/2 [00:00<?, ?it/s]"
      ]
     },
     "metadata": {},
     "output_type": "display_data"
    },
    {
     "data": {
      "application/vnd.jupyter.widget-view+json": {
       "model_id": "685ed96d1a004225975e670f23e66910",
       "version_major": 2,
       "version_minor": 0
      },
      "text/plain": [
       "Epoch 1:   0%|          | 0/1890 [00:00<?, ?it/s]"
      ]
     },
     "metadata": {},
     "output_type": "display_data"
    },
    {
     "data": {
      "application/vnd.jupyter.widget-view+json": {
       "model_id": "5cda4fdc32684e64924277a07472e3d0",
       "version_major": 2,
       "version_minor": 0
      },
      "text/plain": [
       "Epoch 2:   0%|          | 0/1890 [00:00<?, ?it/s]"
      ]
     },
     "metadata": {},
     "output_type": "display_data"
    },
    {
     "data": {
      "application/vnd.jupyter.widget-view+json": {
       "model_id": "eecfa718eac44a5dbe13550e517ac794",
       "version_major": 2,
       "version_minor": 0
      },
      "text/plain": [
       "Training Epochs:   0%|          | 0/2 [00:00<?, ?it/s]"
      ]
     },
     "metadata": {},
     "output_type": "display_data"
    },
    {
     "data": {
      "application/vnd.jupyter.widget-view+json": {
       "model_id": "c845b10bee844c5daf5913ae92c5e445",
       "version_major": 2,
       "version_minor": 0
      },
      "text/plain": [
       "Epoch 1:   0%|          | 0/119 [00:00<?, ?it/s]"
      ]
     },
     "metadata": {},
     "output_type": "display_data"
    },
    {
     "data": {
      "application/vnd.jupyter.widget-view+json": {
       "model_id": "a58a19d9a4e941559589605d5c551be3",
       "version_major": 2,
       "version_minor": 0
      },
      "text/plain": [
       "Epoch 2:   0%|          | 0/119 [00:00<?, ?it/s]"
      ]
     },
     "metadata": {},
     "output_type": "display_data"
    },
    {
     "data": {
      "application/vnd.jupyter.widget-view+json": {
       "model_id": "5e724719408446fd92961ddf73703ba3",
       "version_major": 2,
       "version_minor": 0
      },
      "text/plain": [
       "Training Epochs:   0%|          | 0/2 [00:00<?, ?it/s]"
      ]
     },
     "metadata": {},
     "output_type": "display_data"
    },
    {
     "data": {
      "application/vnd.jupyter.widget-view+json": {
       "model_id": "fff060a2fcc14b999ee3457305b8ba7e",
       "version_major": 2,
       "version_minor": 0
      },
      "text/plain": [
       "Epoch 1:   0%|          | 0/473 [00:00<?, ?it/s]"
      ]
     },
     "metadata": {},
     "output_type": "display_data"
    },
    {
     "data": {
      "application/vnd.jupyter.widget-view+json": {
       "model_id": "f3ce679e833b415eaad1e9cfd2d15ab2",
       "version_major": 2,
       "version_minor": 0
      },
      "text/plain": [
       "Epoch 2:   0%|          | 0/473 [00:00<?, ?it/s]"
      ]
     },
     "metadata": {},
     "output_type": "display_data"
    },
    {
     "data": {
      "application/vnd.jupyter.widget-view+json": {
       "model_id": "9fe4d7e8519f4ed9b6585c9af62a67be",
       "version_major": 2,
       "version_minor": 0
      },
      "text/plain": [
       "Training Epochs:   0%|          | 0/2 [00:00<?, ?it/s]"
      ]
     },
     "metadata": {},
     "output_type": "display_data"
    },
    {
     "data": {
      "application/vnd.jupyter.widget-view+json": {
       "model_id": "39d298cda9a24bbdabe05531e7c21989",
       "version_major": 2,
       "version_minor": 0
      },
      "text/plain": [
       "Epoch 1:   0%|          | 0/237 [00:00<?, ?it/s]"
      ]
     },
     "metadata": {},
     "output_type": "display_data"
    },
    {
     "data": {
      "application/vnd.jupyter.widget-view+json": {
       "model_id": "bb6c0b4f587849b796e2d2c3d8c5ca51",
       "version_major": 2,
       "version_minor": 0
      },
      "text/plain": [
       "Epoch 2:   0%|          | 0/237 [00:00<?, ?it/s]"
      ]
     },
     "metadata": {},
     "output_type": "display_data"
    },
    {
     "data": {
      "application/vnd.jupyter.widget-view+json": {
       "model_id": "f7e486d4e43742a3af720448ddab40a3",
       "version_major": 2,
       "version_minor": 0
      },
      "text/plain": [
       "Training Epochs:   0%|          | 0/2 [00:00<?, ?it/s]"
      ]
     },
     "metadata": {},
     "output_type": "display_data"
    },
    {
     "data": {
      "application/vnd.jupyter.widget-view+json": {
       "model_id": "c13158b787494687adf4e8ee717f802a",
       "version_major": 2,
       "version_minor": 0
      },
      "text/plain": [
       "Epoch 1:   0%|          | 0/945 [00:00<?, ?it/s]"
      ]
     },
     "metadata": {},
     "output_type": "display_data"
    },
    {
     "data": {
      "application/vnd.jupyter.widget-view+json": {
       "model_id": "ac1b464cbc31431bb82d57c9684e53cd",
       "version_major": 2,
       "version_minor": 0
      },
      "text/plain": [
       "Epoch 2:   0%|          | 0/945 [00:00<?, ?it/s]"
      ]
     },
     "metadata": {},
     "output_type": "display_data"
    },
    {
     "data": {
      "application/vnd.jupyter.widget-view+json": {
       "model_id": "238a0d009bde4357aac89215d6a2b7af",
       "version_major": 2,
       "version_minor": 0
      },
      "text/plain": [
       "Training Epochs:   0%|          | 0/2 [00:00<?, ?it/s]"
      ]
     },
     "metadata": {},
     "output_type": "display_data"
    },
    {
     "data": {
      "application/vnd.jupyter.widget-view+json": {
       "model_id": "a8f4cde704bf41f194faed4023bde290",
       "version_major": 2,
       "version_minor": 0
      },
      "text/plain": [
       "Epoch 1:   0%|          | 0/237 [00:00<?, ?it/s]"
      ]
     },
     "metadata": {},
     "output_type": "display_data"
    },
    {
     "data": {
      "application/vnd.jupyter.widget-view+json": {
       "model_id": "c2dc975efc9d4ac8a7c77089f7aa4e32",
       "version_major": 2,
       "version_minor": 0
      },
      "text/plain": [
       "Epoch 2:   0%|          | 0/237 [00:00<?, ?it/s]"
      ]
     },
     "metadata": {},
     "output_type": "display_data"
    },
    {
     "data": {
      "application/vnd.jupyter.widget-view+json": {
       "model_id": "02ac605b2a39442d80b9c27c71b892c4",
       "version_major": 2,
       "version_minor": 0
      },
      "text/plain": [
       "Training Epochs:   0%|          | 0/2 [00:00<?, ?it/s]"
      ]
     },
     "metadata": {},
     "output_type": "display_data"
    },
    {
     "data": {
      "application/vnd.jupyter.widget-view+json": {
       "model_id": "8a7d11390e75486e8113bba5122e2c29",
       "version_major": 2,
       "version_minor": 0
      },
      "text/plain": [
       "Epoch 1:   0%|          | 0/237 [00:00<?, ?it/s]"
      ]
     },
     "metadata": {},
     "output_type": "display_data"
    },
    {
     "data": {
      "application/vnd.jupyter.widget-view+json": {
       "model_id": "81a1f0491ac14f179f9bc6d61fb96e07",
       "version_major": 2,
       "version_minor": 0
      },
      "text/plain": [
       "Epoch 2:   0%|          | 0/237 [00:00<?, ?it/s]"
      ]
     },
     "metadata": {},
     "output_type": "display_data"
    },
    {
     "data": {
      "application/vnd.jupyter.widget-view+json": {
       "model_id": "1ac980b067b84bcfbd2214c770cc4a99",
       "version_major": 2,
       "version_minor": 0
      },
      "text/plain": [
       "Training Epochs:   0%|          | 0/2 [00:00<?, ?it/s]"
      ]
     },
     "metadata": {},
     "output_type": "display_data"
    },
    {
     "data": {
      "application/vnd.jupyter.widget-view+json": {
       "model_id": "c384aeb97ac54f00b83bbaea4e6281fe",
       "version_major": 2,
       "version_minor": 0
      },
      "text/plain": [
       "Epoch 1:   0%|          | 0/473 [00:00<?, ?it/s]"
      ]
     },
     "metadata": {},
     "output_type": "display_data"
    },
    {
     "data": {
      "application/vnd.jupyter.widget-view+json": {
       "model_id": "0d42bc5543164beaa10df0fa8f6f6b0e",
       "version_major": 2,
       "version_minor": 0
      },
      "text/plain": [
       "Epoch 2:   0%|          | 0/473 [00:00<?, ?it/s]"
      ]
     },
     "metadata": {},
     "output_type": "display_data"
    },
    {
     "data": {
      "application/vnd.jupyter.widget-view+json": {
       "model_id": "f04f7b93fd344a29880d1133befd3646",
       "version_major": 2,
       "version_minor": 0
      },
      "text/plain": [
       "Training Epochs:   0%|          | 0/2 [00:00<?, ?it/s]"
      ]
     },
     "metadata": {},
     "output_type": "display_data"
    },
    {
     "data": {
      "application/vnd.jupyter.widget-view+json": {
       "model_id": "9afb20d7aec542a29bdbe5233df9e4fa",
       "version_major": 2,
       "version_minor": 0
      },
      "text/plain": [
       "Epoch 1:   0%|          | 0/473 [00:00<?, ?it/s]"
      ]
     },
     "metadata": {},
     "output_type": "display_data"
    },
    {
     "data": {
      "application/vnd.jupyter.widget-view+json": {
       "model_id": "9d4d94f65bd24180966a287e726dc7d9",
       "version_major": 2,
       "version_minor": 0
      },
      "text/plain": [
       "Epoch 2:   0%|          | 0/473 [00:00<?, ?it/s]"
      ]
     },
     "metadata": {},
     "output_type": "display_data"
    },
    {
     "data": {
      "application/vnd.jupyter.widget-view+json": {
       "model_id": "860308dad4594b23963dd51168890632",
       "version_major": 2,
       "version_minor": 0
      },
      "text/plain": [
       "Training Epochs:   0%|          | 0/2 [00:00<?, ?it/s]"
      ]
     },
     "metadata": {},
     "output_type": "display_data"
    },
    {
     "data": {
      "application/vnd.jupyter.widget-view+json": {
       "model_id": "7f668015193d4928afa37f76ae26a1e9",
       "version_major": 2,
       "version_minor": 0
      },
      "text/plain": [
       "Epoch 1:   0%|          | 0/1890 [00:00<?, ?it/s]"
      ]
     },
     "metadata": {},
     "output_type": "display_data"
    },
    {
     "data": {
      "application/vnd.jupyter.widget-view+json": {
       "model_id": "3b5f37ba5b5c407ca09c63d8475e86ae",
       "version_major": 2,
       "version_minor": 0
      },
      "text/plain": [
       "Epoch 2:   0%|          | 0/1890 [00:00<?, ?it/s]"
      ]
     },
     "metadata": {},
     "output_type": "display_data"
    },
    {
     "data": {
      "application/vnd.jupyter.widget-view+json": {
       "model_id": "bfaba78e31c74b8d84123f0b6cfd13a8",
       "version_major": 2,
       "version_minor": 0
      },
      "text/plain": [
       "Training Epochs:   0%|          | 0/2 [00:00<?, ?it/s]"
      ]
     },
     "metadata": {},
     "output_type": "display_data"
    },
    {
     "data": {
      "application/vnd.jupyter.widget-view+json": {
       "model_id": "eb600fe471f94aba86f1a3c5931640b3",
       "version_major": 2,
       "version_minor": 0
      },
      "text/plain": [
       "Epoch 1:   0%|          | 0/237 [00:00<?, ?it/s]"
      ]
     },
     "metadata": {},
     "output_type": "display_data"
    },
    {
     "data": {
      "application/vnd.jupyter.widget-view+json": {
       "model_id": "642adc1d7cf642179a38c6d2b0b0bfe8",
       "version_major": 2,
       "version_minor": 0
      },
      "text/plain": [
       "Epoch 2:   0%|          | 0/237 [00:00<?, ?it/s]"
      ]
     },
     "metadata": {},
     "output_type": "display_data"
    },
    {
     "data": {
      "application/vnd.jupyter.widget-view+json": {
       "model_id": "661d54d84a5c4ab590753b3fc27ecc97",
       "version_major": 2,
       "version_minor": 0
      },
      "text/plain": [
       "Training Epochs:   0%|          | 0/2 [00:00<?, ?it/s]"
      ]
     },
     "metadata": {},
     "output_type": "display_data"
    },
    {
     "data": {
      "application/vnd.jupyter.widget-view+json": {
       "model_id": "b337da358c864734a88f38609862dbe7",
       "version_major": 2,
       "version_minor": 0
      },
      "text/plain": [
       "Epoch 1:   0%|          | 0/119 [00:00<?, ?it/s]"
      ]
     },
     "metadata": {},
     "output_type": "display_data"
    },
    {
     "data": {
      "application/vnd.jupyter.widget-view+json": {
       "model_id": "0afbe91ed169473ea82086af135c5074",
       "version_major": 2,
       "version_minor": 0
      },
      "text/plain": [
       "Epoch 2:   0%|          | 0/119 [00:00<?, ?it/s]"
      ]
     },
     "metadata": {},
     "output_type": "display_data"
    },
    {
     "data": {
      "application/vnd.jupyter.widget-view+json": {
       "model_id": "8614432a5c9d4317acfa5b0cb964654c",
       "version_major": 2,
       "version_minor": 0
      },
      "text/plain": [
       "Training Epochs:   0%|          | 0/2 [00:00<?, ?it/s]"
      ]
     },
     "metadata": {},
     "output_type": "display_data"
    },
    {
     "data": {
      "application/vnd.jupyter.widget-view+json": {
       "model_id": "2a391d3f3e86438596f8ec2fb6db9380",
       "version_major": 2,
       "version_minor": 0
      },
      "text/plain": [
       "Epoch 1:   0%|          | 0/473 [00:00<?, ?it/s]"
      ]
     },
     "metadata": {},
     "output_type": "display_data"
    },
    {
     "data": {
      "application/vnd.jupyter.widget-view+json": {
       "model_id": "ba22f34f2a2c4889a8072c32354cfd4b",
       "version_major": 2,
       "version_minor": 0
      },
      "text/plain": [
       "Epoch 2:   0%|          | 0/473 [00:00<?, ?it/s]"
      ]
     },
     "metadata": {},
     "output_type": "display_data"
    },
    {
     "data": {
      "application/vnd.jupyter.widget-view+json": {
       "model_id": "c80c7f6fc90046e99f5747964d306066",
       "version_major": 2,
       "version_minor": 0
      },
      "text/plain": [
       "Training Epochs:   0%|          | 0/2 [00:00<?, ?it/s]"
      ]
     },
     "metadata": {},
     "output_type": "display_data"
    },
    {
     "data": {
      "application/vnd.jupyter.widget-view+json": {
       "model_id": "1187115c347e443e9a612a0dd294462d",
       "version_major": 2,
       "version_minor": 0
      },
      "text/plain": [
       "Epoch 1:   0%|          | 0/119 [00:00<?, ?it/s]"
      ]
     },
     "metadata": {},
     "output_type": "display_data"
    },
    {
     "data": {
      "application/vnd.jupyter.widget-view+json": {
       "model_id": "996744555cb74ee29d160eba1264192c",
       "version_major": 2,
       "version_minor": 0
      },
      "text/plain": [
       "Epoch 2:   0%|          | 0/119 [00:00<?, ?it/s]"
      ]
     },
     "metadata": {},
     "output_type": "display_data"
    },
    {
     "data": {
      "application/vnd.jupyter.widget-view+json": {
       "model_id": "c3a0a2533eb64c398c3df6775e47d876",
       "version_major": 2,
       "version_minor": 0
      },
      "text/plain": [
       "Training Epochs:   0%|          | 0/2 [00:00<?, ?it/s]"
      ]
     },
     "metadata": {},
     "output_type": "display_data"
    },
    {
     "data": {
      "application/vnd.jupyter.widget-view+json": {
       "model_id": "546c801a864849d3a1670772924903f2",
       "version_major": 2,
       "version_minor": 0
      },
      "text/plain": [
       "Epoch 1:   0%|          | 0/473 [00:00<?, ?it/s]"
      ]
     },
     "metadata": {},
     "output_type": "display_data"
    },
    {
     "data": {
      "application/vnd.jupyter.widget-view+json": {
       "model_id": "cd1adcd439ec47308d2426ed61ba5118",
       "version_major": 2,
       "version_minor": 0
      },
      "text/plain": [
       "Epoch 2:   0%|          | 0/473 [00:00<?, ?it/s]"
      ]
     },
     "metadata": {},
     "output_type": "display_data"
    },
    {
     "data": {
      "application/vnd.jupyter.widget-view+json": {
       "model_id": "bc731d2bedd241bd9ade409f301688ce",
       "version_major": 2,
       "version_minor": 0
      },
      "text/plain": [
       "Training Epochs:   0%|          | 0/2 [00:00<?, ?it/s]"
      ]
     },
     "metadata": {},
     "output_type": "display_data"
    },
    {
     "data": {
      "application/vnd.jupyter.widget-view+json": {
       "model_id": "e7dd53df39614868b56fe3c3c38c9642",
       "version_major": 2,
       "version_minor": 0
      },
      "text/plain": [
       "Epoch 1:   0%|          | 0/119 [00:00<?, ?it/s]"
      ]
     },
     "metadata": {},
     "output_type": "display_data"
    },
    {
     "data": {
      "application/vnd.jupyter.widget-view+json": {
       "model_id": "deff02c10b5343efa19b571998a61c4b",
       "version_major": 2,
       "version_minor": 0
      },
      "text/plain": [
       "Epoch 2:   0%|          | 0/119 [00:00<?, ?it/s]"
      ]
     },
     "metadata": {},
     "output_type": "display_data"
    },
    {
     "data": {
      "application/vnd.jupyter.widget-view+json": {
       "model_id": "849cc58028b8459e914e1030d4ba3be0",
       "version_major": 2,
       "version_minor": 0
      },
      "text/plain": [
       "Training Epochs:   0%|          | 0/2 [00:00<?, ?it/s]"
      ]
     },
     "metadata": {},
     "output_type": "display_data"
    },
    {
     "data": {
      "application/vnd.jupyter.widget-view+json": {
       "model_id": "0a1ad383bc624fdb97ed6c09eb82468a",
       "version_major": 2,
       "version_minor": 0
      },
      "text/plain": [
       "Epoch 1:   0%|          | 0/1890 [00:00<?, ?it/s]"
      ]
     },
     "metadata": {},
     "output_type": "display_data"
    },
    {
     "data": {
      "application/vnd.jupyter.widget-view+json": {
       "model_id": "7942ac9d9fad479f989664c3f558bd17",
       "version_major": 2,
       "version_minor": 0
      },
      "text/plain": [
       "Epoch 2:   0%|          | 0/1890 [00:00<?, ?it/s]"
      ]
     },
     "metadata": {},
     "output_type": "display_data"
    },
    {
     "data": {
      "application/vnd.jupyter.widget-view+json": {
       "model_id": "9ad6f9e48a524d9ebf76cfd0f78e909e",
       "version_major": 2,
       "version_minor": 0
      },
      "text/plain": [
       "Training Epochs:   0%|          | 0/2 [00:00<?, ?it/s]"
      ]
     },
     "metadata": {},
     "output_type": "display_data"
    },
    {
     "data": {
      "application/vnd.jupyter.widget-view+json": {
       "model_id": "a7aa8b40960543659461177a2408f868",
       "version_major": 2,
       "version_minor": 0
      },
      "text/plain": [
       "Epoch 1:   0%|          | 0/1890 [00:00<?, ?it/s]"
      ]
     },
     "metadata": {},
     "output_type": "display_data"
    },
    {
     "data": {
      "application/vnd.jupyter.widget-view+json": {
       "model_id": "a078b27b891c4d0eb115f9fb747f86ba",
       "version_major": 2,
       "version_minor": 0
      },
      "text/plain": [
       "Epoch 2:   0%|          | 0/1890 [00:00<?, ?it/s]"
      ]
     },
     "metadata": {},
     "output_type": "display_data"
    },
    {
     "data": {
      "application/vnd.jupyter.widget-view+json": {
       "model_id": "1db34537e0fc4b429df8c8c670d8d7f0",
       "version_major": 2,
       "version_minor": 0
      },
      "text/plain": [
       "Training Epochs:   0%|          | 0/2 [00:00<?, ?it/s]"
      ]
     },
     "metadata": {},
     "output_type": "display_data"
    },
    {
     "data": {
      "application/vnd.jupyter.widget-view+json": {
       "model_id": "ab67acef38ab4a58aa25739251376321",
       "version_major": 2,
       "version_minor": 0
      },
      "text/plain": [
       "Epoch 1:   0%|          | 0/1890 [00:00<?, ?it/s]"
      ]
     },
     "metadata": {},
     "output_type": "display_data"
    },
    {
     "data": {
      "application/vnd.jupyter.widget-view+json": {
       "model_id": "46fe31e40a3f46eb972c69a0ee11da75",
       "version_major": 2,
       "version_minor": 0
      },
      "text/plain": [
       "Epoch 2:   0%|          | 0/1890 [00:00<?, ?it/s]"
      ]
     },
     "metadata": {},
     "output_type": "display_data"
    },
    {
     "data": {
      "application/vnd.jupyter.widget-view+json": {
       "model_id": "af593dc534d0404e9358e347eec69b9b",
       "version_major": 2,
       "version_minor": 0
      },
      "text/plain": [
       "Training Epochs:   0%|          | 0/2 [00:00<?, ?it/s]"
      ]
     },
     "metadata": {},
     "output_type": "display_data"
    },
    {
     "data": {
      "application/vnd.jupyter.widget-view+json": {
       "model_id": "41b7c115ac854fd1a808b7b735dfedc9",
       "version_major": 2,
       "version_minor": 0
      },
      "text/plain": [
       "Epoch 1:   0%|          | 0/473 [00:00<?, ?it/s]"
      ]
     },
     "metadata": {},
     "output_type": "display_data"
    },
    {
     "data": {
      "application/vnd.jupyter.widget-view+json": {
       "model_id": "69472bcec0dc4c16a62e8d6533f1c6bd",
       "version_major": 2,
       "version_minor": 0
      },
      "text/plain": [
       "Epoch 2:   0%|          | 0/473 [00:00<?, ?it/s]"
      ]
     },
     "metadata": {},
     "output_type": "display_data"
    },
    {
     "name": "stdout",
     "output_type": "stream",
     "text": [
      "[{'loss': 1286.6063629235978, 'accurracy': 0.5301587301587302, 'f1': 0.6415018167137666, 'hiperparametros': (16, 3, 2, 0.1, 'adam', 3e-05, 0.4, 8), 'message': 'No errors'}, {'loss': 4.4788030039879585, 'accurracy': 0.5082010582010582, 'f1': 0.6739168566918085, 'hiperparametros': (16, 3, 2, 0.1, 'sgd', 0.0001, 0.4, 128), 'message': 'No errors'}, {'loss': 3.8334147969881696, 'accurracy': 0.4917989417989418, 'f1': 0.0, 'hiperparametros': (8, 3, 2, 0.1, 'sgd', 5e-05, 0.1, 32), 'message': 'No errors'}, {'loss': 4.406793234778232, 'accurracy': 0.4917989417989418, 'f1': 0.0, 'hiperparametros': (4, 3, 2, 0.1, 'adamw', 0.0001, 0.4, 64), 'message': 'No errors'}, {'loss': 4.917917600198954, 'accurracy': 0.5079365079365079, 'f1': 0.6696269982238011, 'hiperparametros': (16, 2, 2, 0.1, 'sgd', 5e-05, 0.4, 16), 'message': 'No errors'}, {'loss': 4.233882513202604, 'accurracy': 0.4917989417989418, 'f1': 0.0, 'hiperparametros': (4, 2, 2, 0.1, 'adamw', 3e-05, 0.1, 64), 'message': 'No errors'}, {'loss': 4.663849643019379, 'accurracy': 0.4917989417989418, 'f1': 0.0, 'hiperparametros': (16, 3, 2, 0.1, 'adamw', 5e-05, 0.4, 64), 'message': 'No errors'}, {'loss': 5.17654101451238, 'accurracy': 0.5145502645502645, 'f1': 0.6667877247140004, 'hiperparametros': (8, 3, 2, 0.1, 'adamw', 0.0003, 0.1, 32), 'message': 'No errors'}, {'loss': 4.490839584668477, 'accurracy': 0.508994708994709, 'f1': 0.2168776371308017, 'hiperparametros': (16, 3, 2, 0.1, 'sgd', 0.0001, 0.1, 32), 'message': 'No errors'}, {'loss': 1286.8155701058542, 'accurracy': 0.5082010582010582, 'f1': 0.6739168566918085, 'hiperparametros': (16, 2, 2, 0.1, 'adam', 0.0003, 0.4, 8), 'message': 'No errors'}, {'loss': 4.592387418277928, 'accurracy': 0.4917989417989418, 'f1': 0.0, 'hiperparametros': (4, 2, 2, 0.1, 'sgd', 5e-05, 0.4, 64), 'message': 'No errors'}, {'loss': 4.702020875869259, 'accurracy': 0.5082010582010582, 'f1': 0.6739168566918085, 'hiperparametros': (16, 2, 2, 0.1, 'sgd', 0.0003, 0.4, 128), 'message': 'No errors'}, {'loss': 4.903386449813842, 'accurracy': 0.5026455026455027, 'f1': 0.6530084902177925, 'hiperparametros': (8, 3, 2, 0.1, 'sgd', 0.0001, 0.1, 32), 'message': 'No errors'}, {'loss': 4.336890466751591, 'accurracy': 0.5002645502645503, 'f1': 0.5061437908496732, 'hiperparametros': (16, 2, 2, 0.1, 'adamw', 5e-05, 0.1, 128), 'message': 'No errors'}, {'loss': 4.736868198712667, 'accurracy': 0.5164021164021164, 'f1': 0.656390977443609, 'hiperparametros': (16, 2, 2, 0.1, 'sgd', 0.0001, 0.1, 32), 'message': 'No errors'}, {'loss': 3.6961094564007175, 'accurracy': 0.4917989417989418, 'f1': 0.0, 'hiperparametros': (16, 3, 2, 0.1, 'adam', 0.0001, 0.1, 128), 'message': 'No errors'}, {'loss': 1286.6998737255733, 'accurracy': 0.5216931216931217, 'f1': 0.6350423899878885, 'hiperparametros': (4, 2, 2, 0.1, 'sgd', 5e-05, 0.1, 8), 'message': 'No errors'}, {'loss': 1286.6013346441791, 'accurracy': 0.5082010582010582, 'f1': 0.6739168566918085, 'hiperparametros': (4, 2, 2, 0.1, 'sgd', 0.0001, 0.1, 8), 'message': 'No errors'}, {'loss': 1286.293327234749, 'accurracy': 0.49206349206349204, 'f1': 0.001040582726326743, 'hiperparametros': (8, 3, 2, 0.1, 'sgd', 5e-05, 0.4, 8), 'message': 'No errors'}, {'loss': 5.625571739673615, 'accurracy': 0.5031746031746032, 'f1': 0.6618653222902413, 'hiperparametros': (8, 2, 2, 0.1, 'sgd', 0.0003, 0.1, 32), 'message': 'No errors'}]\n",
      "¡Barrido terminado!\n"
     ]
    }
   ],
   "source": [
    "trainer.ejecutar_barrido()"
   ]
  },
  {
   "cell_type": "code",
   "execution_count": 5,
   "id": "1b06c12e",
   "metadata": {},
   "outputs": [
    {
     "name": "stdout",
     "output_type": "stream",
     "text": [
      "Best f1: 0.6739168566918085\n",
      "Best embedding_dim: 16\n",
      "Best net_layers: 3\n",
      "Best net_heads: 2\n",
      "Best dropout: 0.1\n",
      "Best optimizer_class: sgd\n",
      "Best learning_rate_initial: 0.0001\n",
      "Best gamma: 0.4\n",
      "Best batch_size: 128\n"
     ]
    }
   ],
   "source": [
    "mejor_punto_idx = trainer.retornar_mejor_combinacion_idx()"
   ]
  },
  {
   "cell_type": "code",
   "execution_count": 6,
   "id": "be3db856",
   "metadata": {},
   "outputs": [
    {
     "data": {
      "text/plain": [
       "[{'loss': 1286.6063629235978,\n",
       "  'accurracy': 0.5301587301587302,\n",
       "  'f1': 0.6415018167137666,\n",
       "  'hiperparametros': (16, 3, 2, 0.1, 'adam', 3e-05, 0.4, 8),\n",
       "  'message': 'No errors'},\n",
       " {'loss': 4.4788030039879585,\n",
       "  'accurracy': 0.5082010582010582,\n",
       "  'f1': 0.6739168566918085,\n",
       "  'hiperparametros': (16, 3, 2, 0.1, 'sgd', 0.0001, 0.4, 128),\n",
       "  'message': 'No errors'},\n",
       " {'loss': 3.8334147969881696,\n",
       "  'accurracy': 0.4917989417989418,\n",
       "  'f1': 0.0,\n",
       "  'hiperparametros': (8, 3, 2, 0.1, 'sgd', 5e-05, 0.1, 32),\n",
       "  'message': 'No errors'},\n",
       " {'loss': 4.406793234778232,\n",
       "  'accurracy': 0.4917989417989418,\n",
       "  'f1': 0.0,\n",
       "  'hiperparametros': (4, 3, 2, 0.1, 'adamw', 0.0001, 0.4, 64),\n",
       "  'message': 'No errors'},\n",
       " {'loss': 4.917917600198954,\n",
       "  'accurracy': 0.5079365079365079,\n",
       "  'f1': 0.6696269982238011,\n",
       "  'hiperparametros': (16, 2, 2, 0.1, 'sgd', 5e-05, 0.4, 16),\n",
       "  'message': 'No errors'},\n",
       " {'loss': 4.233882513202604,\n",
       "  'accurracy': 0.4917989417989418,\n",
       "  'f1': 0.0,\n",
       "  'hiperparametros': (4, 2, 2, 0.1, 'adamw', 3e-05, 0.1, 64),\n",
       "  'message': 'No errors'},\n",
       " {'loss': 4.663849643019379,\n",
       "  'accurracy': 0.4917989417989418,\n",
       "  'f1': 0.0,\n",
       "  'hiperparametros': (16, 3, 2, 0.1, 'adamw', 5e-05, 0.4, 64),\n",
       "  'message': 'No errors'},\n",
       " {'loss': 5.17654101451238,\n",
       "  'accurracy': 0.5145502645502645,\n",
       "  'f1': 0.6667877247140004,\n",
       "  'hiperparametros': (8, 3, 2, 0.1, 'adamw', 0.0003, 0.1, 32),\n",
       "  'message': 'No errors'},\n",
       " {'loss': 4.490839584668477,\n",
       "  'accurracy': 0.508994708994709,\n",
       "  'f1': 0.2168776371308017,\n",
       "  'hiperparametros': (16, 3, 2, 0.1, 'sgd', 0.0001, 0.1, 32),\n",
       "  'message': 'No errors'},\n",
       " {'loss': 1286.8155701058542,\n",
       "  'accurracy': 0.5082010582010582,\n",
       "  'f1': 0.6739168566918085,\n",
       "  'hiperparametros': (16, 2, 2, 0.1, 'adam', 0.0003, 0.4, 8),\n",
       "  'message': 'No errors'},\n",
       " {'loss': 4.592387418277928,\n",
       "  'accurracy': 0.4917989417989418,\n",
       "  'f1': 0.0,\n",
       "  'hiperparametros': (4, 2, 2, 0.1, 'sgd', 5e-05, 0.4, 64),\n",
       "  'message': 'No errors'},\n",
       " {'loss': 4.702020875869259,\n",
       "  'accurracy': 0.5082010582010582,\n",
       "  'f1': 0.6739168566918085,\n",
       "  'hiperparametros': (16, 2, 2, 0.1, 'sgd', 0.0003, 0.4, 128),\n",
       "  'message': 'No errors'},\n",
       " {'loss': 4.903386449813842,\n",
       "  'accurracy': 0.5026455026455027,\n",
       "  'f1': 0.6530084902177925,\n",
       "  'hiperparametros': (8, 3, 2, 0.1, 'sgd', 0.0001, 0.1, 32),\n",
       "  'message': 'No errors'},\n",
       " {'loss': 4.336890466751591,\n",
       "  'accurracy': 0.5002645502645503,\n",
       "  'f1': 0.5061437908496732,\n",
       "  'hiperparametros': (16, 2, 2, 0.1, 'adamw', 5e-05, 0.1, 128),\n",
       "  'message': 'No errors'},\n",
       " {'loss': 4.736868198712667,\n",
       "  'accurracy': 0.5164021164021164,\n",
       "  'f1': 0.656390977443609,\n",
       "  'hiperparametros': (16, 2, 2, 0.1, 'sgd', 0.0001, 0.1, 32),\n",
       "  'message': 'No errors'},\n",
       " {'loss': 3.6961094564007175,\n",
       "  'accurracy': 0.4917989417989418,\n",
       "  'f1': 0.0,\n",
       "  'hiperparametros': (16, 3, 2, 0.1, 'adam', 0.0001, 0.1, 128),\n",
       "  'message': 'No errors'},\n",
       " {'loss': 1286.6998737255733,\n",
       "  'accurracy': 0.5216931216931217,\n",
       "  'f1': 0.6350423899878885,\n",
       "  'hiperparametros': (4, 2, 2, 0.1, 'sgd', 5e-05, 0.1, 8),\n",
       "  'message': 'No errors'},\n",
       " {'loss': 1286.6013346441791,\n",
       "  'accurracy': 0.5082010582010582,\n",
       "  'f1': 0.6739168566918085,\n",
       "  'hiperparametros': (4, 2, 2, 0.1, 'sgd', 0.0001, 0.1, 8),\n",
       "  'message': 'No errors'},\n",
       " {'loss': 1286.293327234749,\n",
       "  'accurracy': 0.49206349206349204,\n",
       "  'f1': 0.001040582726326743,\n",
       "  'hiperparametros': (8, 3, 2, 0.1, 'sgd', 5e-05, 0.4, 8),\n",
       "  'message': 'No errors'},\n",
       " {'loss': 5.625571739673615,\n",
       "  'accurracy': 0.5031746031746032,\n",
       "  'f1': 0.6618653222902413,\n",
       "  'hiperparametros': (8, 2, 2, 0.1, 'sgd', 0.0003, 0.1, 32),\n",
       "  'message': 'No errors'}]"
      ]
     },
     "execution_count": 6,
     "metadata": {},
     "output_type": "execute_result"
    }
   ],
   "source": [
    "trainer.LOGGER"
   ]
  },
  {
   "cell_type": "code",
   "execution_count": 7,
   "id": "44445986",
   "metadata": {},
   "outputs": [
    {
     "data": {
      "application/vnd.jupyter.widget-view+json": {
       "model_id": "70ebb33fe2d444cf8cbdf00674fc3d96",
       "version_major": 2,
       "version_minor": 0
      },
      "text/plain": [
       "Training Epochs:   0%|          | 0/4 [00:00<?, ?it/s]"
      ]
     },
     "metadata": {},
     "output_type": "display_data"
    },
    {
     "data": {
      "application/vnd.jupyter.widget-view+json": {
       "model_id": "f3260994fa234d258a1bbb16b2e9090a",
       "version_major": 2,
       "version_minor": 0
      },
      "text/plain": [
       "Epoch 1:   0%|          | 0/119 [00:00<?, ?it/s]"
      ]
     },
     "metadata": {},
     "output_type": "display_data"
    },
    {
     "data": {
      "application/vnd.jupyter.widget-view+json": {
       "model_id": "3f23711a9d084507a870a2142fcd4087",
       "version_major": 2,
       "version_minor": 0
      },
      "text/plain": [
       "Epoch 2:   0%|          | 0/119 [00:00<?, ?it/s]"
      ]
     },
     "metadata": {},
     "output_type": "display_data"
    },
    {
     "data": {
      "application/vnd.jupyter.widget-view+json": {
       "model_id": "25eafe98d52541c686272b0e7a2b7e76",
       "version_major": 2,
       "version_minor": 0
      },
      "text/plain": [
       "Epoch 3:   0%|          | 0/119 [00:00<?, ?it/s]"
      ]
     },
     "metadata": {},
     "output_type": "display_data"
    },
    {
     "data": {
      "application/vnd.jupyter.widget-view+json": {
       "model_id": "eb739e5c285f45f98133803af661c8af",
       "version_major": 2,
       "version_minor": 0
      },
      "text/plain": [
       "Epoch 4:   0%|          | 0/119 [00:00<?, ?it/s]"
      ]
     },
     "metadata": {},
     "output_type": "display_data"
    }
   ],
   "source": [
    "trainer.N_EPOCHS = 4\n",
    "mejor_punto = trainer.puntos[mejor_punto_idx]\n",
    "trainer.TRAINING_IN_EARNEST = True\n",
    "results = trainer.ejecutar_punto(mejor_punto)"
   ]
  },
  {
   "cell_type": "code",
   "execution_count": 8,
   "id": "dfe9b6a0",
   "metadata": {},
   "outputs": [
    {
     "data": {
      "image/png": "[encoded data removed]",
      "text/plain": [
       "<Figure size 900x300 with 3 Axes>"
      ]
     },
     "metadata": {},
     "output_type": "display_data"
    }
   ],
   "source": [
    "trainer.plot_results(results)"
   ]
  },
  {
   "cell_type": "code",
   "execution_count": 9,
   "id": "b41d77d6",
   "metadata": {},
   "outputs": [
    {
     "ename": "IsADirectoryError",
     "evalue": "[Errno 21] Is a directory: '/Users/danielbojaca/Documents/GitHub/TestBERT/data/trainer'",
     "output_type": "error",
     "traceback": [
      "\u001b[31m---------------------------------------------------------------------------\u001b[39m",
      "\u001b[31mIsADirectoryError\u001b[39m                         Traceback (most recent call last)",
      "\u001b[36mCell\u001b[39m\u001b[36m \u001b[39m\u001b[32mIn[9]\u001b[39m\u001b[32m, line 1\u001b[39m\n\u001b[32m----> \u001b[39m\u001b[32m1\u001b[39m \u001b[43mtrainer\u001b[49m\u001b[43m.\u001b[49m\u001b[43msave\u001b[49m\u001b[43m(\u001b[49m\u001b[43mfile_name\u001b[49m\u001b[43m=\u001b[49m\u001b[33;43m'\u001b[39;49m\u001b[33;43mimplicacion_5.pkl\u001b[39;49m\u001b[33;43m'\u001b[39;49m\u001b[43m)\u001b[49m\n",
      "\u001b[36mFile \u001b[39m\u001b[32m~/Documents/GitHub/TestBERT/notebooks/Implicacion/../../src/utils/barrido.py:364\u001b[39m, in \u001b[36mNNTrainer.save\u001b[39m\u001b[34m(self, file_name)\u001b[39m\n\u001b[32m    362\u001b[39m \u001b[38;5;28;01melse\u001b[39;00m:\n\u001b[32m    363\u001b[39m     file_name = \u001b[38;5;28mself\u001b[39m.TRAINER_PATH / Path(file_name)\n\u001b[32m--> \u001b[39m\u001b[32m364\u001b[39m \u001b[38;5;28;01mwith\u001b[39;00m \u001b[38;5;28;43mopen\u001b[39;49m\u001b[43m(\u001b[49m\u001b[38;5;28;43mself\u001b[39;49m\u001b[43m.\u001b[49m\u001b[43mTRAINER_PATH\u001b[49m\u001b[43m,\u001b[49m\u001b[43m \u001b[49m\u001b[33;43m'\u001b[39;49m\u001b[33;43mwb\u001b[39;49m\u001b[33;43m'\u001b[39;49m\u001b[43m)\u001b[49m \u001b[38;5;28;01mas\u001b[39;00m f:\n\u001b[32m    365\u001b[39m     pickle.dump(dict_self, f)\n\u001b[32m    366\u001b[39m \u001b[38;5;28mprint\u001b[39m(\u001b[33mf\u001b[39m\u001b[33m'\u001b[39m\u001b[33mSelf guardado con éxito en \u001b[39m\u001b[38;5;132;01m{\u001b[39;00m\u001b[38;5;28mself\u001b[39m.TRAINER_PATH\u001b[38;5;132;01m}\u001b[39;00m\u001b[33m'\u001b[39m)\n",
      "\u001b[31mIsADirectoryError\u001b[39m: [Errno 21] Is a directory: '/Users/danielbojaca/Documents/GitHub/TestBERT/data/trainer'"
     ]
    }
   ],
   "source": [
    "trainer.save(file_name='implicacion_5.pkl')"
   ]
  },
  {
   "cell_type": "code",
   "execution_count": null,
   "id": "4ead2b9e",
   "metadata": {},
   "outputs": [],
   "source": [
    "model_file = PATHS['models_folder'] / 'modelo_implicacion_5.pt'\n",
    "\n",
    "# Save model\n",
    "torch.save(trainer.model.state_dict(), model_file)"
   ]
  }
 ],
 "metadata": {
  "kernelspec": {
   "display_name": "3.11.5",
   "language": "python",
   "name": "python3"
  },
  "language_info": {
   "codemirror_mode": {
    "name": "ipython",
    "version": 3
   },
   "file_extension": ".py",
   "mimetype": "text/x-python",
   "name": "python",
   "nbconvert_exporter": "python",
   "pygments_lexer": "ipython3",
   "version": "3.11.5"
  }
 },
 "nbformat": 4,
 "nbformat_minor": 5
}
